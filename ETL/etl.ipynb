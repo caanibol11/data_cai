{
 "cells": [
  {
   "cell_type": "markdown",
   "metadata": {},
   "source": [
    "ETL\n",
    "\n",
    "Para comenzar el ETL, se debe realizar una importación de las pricipales librerias que se usarán en este\n",
    "proyecto:"
   ]
  },
  {
   "cell_type": "code",
   "execution_count": 86,
   "metadata": {},
   "outputs": [],
   "source": [
    "import pandas as pd\n",
    "import numpy as np\n",
    "import ast # con estaa libreria se evaluar expresiones literales de Python\n",
    "import gzip # manejo de archivos comprimidos \n",
    "import json # Módulo para trabajar con JSON\n",
    "import matplotlib.pyplot as plt\n",
    "import seaborn as sns\n",
    "import nltk #biblioteca nltk (Natural Language Toolkit)\n",
    "from nltk.sentiment.vader import SentimentIntensityAnalyzer\n",
    "import re # Módulo para trabajar con expresiones regulares"
   ]
  },
  {
   "cell_type": "markdown",
   "metadata": {},
   "source": [
    "Seguidamente, se carga el primer archivo de los datasets suministrados (steam_games.json.gz) en la variable stg:"
   ]
  },
  {
   "cell_type": "code",
   "execution_count": 87,
   "metadata": {},
   "outputs": [],
   "source": [
    "stg = pd.read_json('../datasets/steam_games.json.gz',compression='gzip',lines=True)"
   ]
  },
  {
   "cell_type": "markdown",
   "metadata": {},
   "source": [
    "Luego se visualiza como esta conformado el archivo de datos:"
   ]
  },
  {
   "cell_type": "code",
   "execution_count": 88,
   "metadata": {},
   "outputs": [
    {
     "name": "stdout",
     "output_type": "stream",
     "text": [
      "<class 'pandas.core.frame.DataFrame'>\n",
      "RangeIndex: 120445 entries, 0 to 120444\n",
      "Data columns (total 13 columns):\n",
      " #   Column        Non-Null Count  Dtype  \n",
      "---  ------        --------------  -----  \n",
      " 0   publisher     24083 non-null  object \n",
      " 1   genres        28852 non-null  object \n",
      " 2   app_name      32133 non-null  object \n",
      " 3   title         30085 non-null  object \n",
      " 4   url           32135 non-null  object \n",
      " 5   release_date  30068 non-null  object \n",
      " 6   tags          31972 non-null  object \n",
      " 7   reviews_url   32133 non-null  object \n",
      " 8   specs         31465 non-null  object \n",
      " 9   price         30758 non-null  object \n",
      " 10  early_access  32135 non-null  float64\n",
      " 11  id            32133 non-null  float64\n",
      " 12  developer     28836 non-null  object \n",
      "dtypes: float64(2), object(11)\n",
      "memory usage: 11.9+ MB\n"
     ]
    }
   ],
   "source": [
    "stg.info()"
   ]
  },
  {
   "cell_type": "markdown",
   "metadata": {},
   "source": [
    "Se debe eliminar las filas que sean nulas en todos sus campos para disminuir el peso del archivo:"
   ]
  },
  {
   "cell_type": "code",
   "execution_count": 89,
   "metadata": {},
   "outputs": [],
   "source": [
    "stg.dropna(how='all',inplace=True)"
   ]
  },
  {
   "cell_type": "code",
   "execution_count": 90,
   "metadata": {},
   "outputs": [
    {
     "name": "stdout",
     "output_type": "stream",
     "text": [
      "<class 'pandas.core.frame.DataFrame'>\n",
      "Index: 32135 entries, 88310 to 120444\n",
      "Data columns (total 13 columns):\n",
      " #   Column        Non-Null Count  Dtype  \n",
      "---  ------        --------------  -----  \n",
      " 0   publisher     24083 non-null  object \n",
      " 1   genres        28852 non-null  object \n",
      " 2   app_name      32133 non-null  object \n",
      " 3   title         30085 non-null  object \n",
      " 4   url           32135 non-null  object \n",
      " 5   release_date  30068 non-null  object \n",
      " 6   tags          31972 non-null  object \n",
      " 7   reviews_url   32133 non-null  object \n",
      " 8   specs         31465 non-null  object \n",
      " 9   price         30758 non-null  object \n",
      " 10  early_access  32135 non-null  float64\n",
      " 11  id            32133 non-null  float64\n",
      " 12  developer     28836 non-null  object \n",
      "dtypes: float64(2), object(11)\n",
      "memory usage: 3.4+ MB\n"
     ]
    }
   ],
   "source": [
    "stg.info()"
   ]
  },
  {
   "cell_type": "code",
   "execution_count": 91,
   "metadata": {},
   "outputs": [
    {
     "name": "stdout",
     "output_type": "stream",
     "text": [
      "              publisher                                             genres  \\\n",
      "88310         Kotoshiro      [Action, Casual, Indie, Simulation, Strategy]   \n",
      "88311  Making Fun, Inc.               [Free to Play, Indie, RPG, Strategy]   \n",
      "88312      Poolians.com  [Casual, Free to Play, Indie, Simulation, Sports]   \n",
      "88313              彼岸领域                        [Action, Adventure, Casual]   \n",
      "88314              None                                               None   \n",
      "\n",
      "                      app_name                    title  \\\n",
      "88310      Lost Summoner Kitty      Lost Summoner Kitty   \n",
      "88311                Ironbound                Ironbound   \n",
      "88312  Real Pool 3D - Poolians  Real Pool 3D - Poolians   \n",
      "88313                  弹炸人2222                  弹炸人2222   \n",
      "88314            Log Challenge                     None   \n",
      "\n",
      "                                                     url release_date  \\\n",
      "88310  http://store.steampowered.com/app/761140/Lost_...   2018-01-04   \n",
      "88311  http://store.steampowered.com/app/643980/Ironb...   2018-01-04   \n",
      "88312  http://store.steampowered.com/app/670290/Real_...   2017-07-24   \n",
      "88313     http://store.steampowered.com/app/767400/2222/   2017-12-07   \n",
      "88314  http://store.steampowered.com/app/773570/Log_C...         None   \n",
      "\n",
      "                                                    tags  \\\n",
      "88310      [Strategy, Action, Indie, Casual, Simulation]   \n",
      "88311  [Free to Play, Strategy, Indie, RPG, Card Game...   \n",
      "88312  [Free to Play, Simulation, Sports, Casual, Ind...   \n",
      "88313                        [Action, Adventure, Casual]   \n",
      "88314                    [Action, Indie, Casual, Sports]   \n",
      "\n",
      "                                             reviews_url  \\\n",
      "88310  http://steamcommunity.com/app/761140/reviews/?...   \n",
      "88311  http://steamcommunity.com/app/643980/reviews/?...   \n",
      "88312  http://steamcommunity.com/app/670290/reviews/?...   \n",
      "88313  http://steamcommunity.com/app/767400/reviews/?...   \n",
      "88314  http://steamcommunity.com/app/773570/reviews/?...   \n",
      "\n",
      "                                                   specs         price  \\\n",
      "88310                                    [Single-player]          4.99   \n",
      "88311  [Single-player, Multi-player, Online Multi-Pla...  Free To Play   \n",
      "88312  [Single-player, Multi-player, Online Multi-Pla...  Free to Play   \n",
      "88313                                    [Single-player]          0.99   \n",
      "88314  [Single-player, Full controller support, HTC V...          2.99   \n",
      "\n",
      "       early_access        id         developer  \n",
      "88310           0.0  761140.0         Kotoshiro  \n",
      "88311           0.0  643980.0  Secret Level SRL  \n",
      "88312           0.0  670290.0      Poolians.com  \n",
      "88313           0.0  767400.0              彼岸领域  \n",
      "88314           0.0  773570.0              None  \n"
     ]
    }
   ],
   "source": [
    "print(stg.head())"
   ]
  },
  {
   "cell_type": "markdown",
   "metadata": {},
   "source": [
    "se debe eliminar registros donde el ID de este dataset sea duplicado y/o nulo ya que no aporta para la información final:"
   ]
  },
  {
   "cell_type": "code",
   "execution_count": 92,
   "metadata": {},
   "outputs": [],
   "source": [
    "stg = stg.dropna(subset=['id'])"
   ]
  },
  {
   "cell_type": "code",
   "execution_count": 93,
   "metadata": {},
   "outputs": [],
   "source": [
    "stg = stg.drop_duplicates(subset=['id'])"
   ]
  },
  {
   "cell_type": "code",
   "execution_count": 94,
   "metadata": {},
   "outputs": [
    {
     "data": {
      "text/plain": [
       "publisher       8051\n",
       "genres          3282\n",
       "app_name           1\n",
       "title           2049\n",
       "url                0\n",
       "release_date    2066\n",
       "tags             162\n",
       "reviews_url        0\n",
       "specs            669\n",
       "price           1377\n",
       "early_access       0\n",
       "id                 0\n",
       "developer       3298\n",
       "dtype: int64"
      ]
     },
     "execution_count": 94,
     "metadata": {},
     "output_type": "execute_result"
    }
   ],
   "source": [
    "stg['id'] = stg['id'].astype('int') # Paso el id a entero\n",
    "stg.isnull().sum() # Cuanto la cantidad de nulos"
   ]
  },
  {
   "cell_type": "code",
   "execution_count": 17,
   "metadata": {},
   "outputs": [
    {
     "data": {
      "text/html": [
       "<div>\n",
       "<style scoped>\n",
       "    .dataframe tbody tr th:only-of-type {\n",
       "        vertical-align: middle;\n",
       "    }\n",
       "\n",
       "    .dataframe tbody tr th {\n",
       "        vertical-align: top;\n",
       "    }\n",
       "\n",
       "    .dataframe thead th {\n",
       "        text-align: right;\n",
       "    }\n",
       "</style>\n",
       "<table border=\"1\" class=\"dataframe\">\n",
       "  <thead>\n",
       "    <tr style=\"text-align: right;\">\n",
       "      <th></th>\n",
       "      <th>publisher</th>\n",
       "      <th>genres</th>\n",
       "      <th>app_name</th>\n",
       "      <th>title</th>\n",
       "      <th>url</th>\n",
       "      <th>release_date</th>\n",
       "      <th>tags</th>\n",
       "      <th>reviews_url</th>\n",
       "      <th>specs</th>\n",
       "      <th>price</th>\n",
       "      <th>early_access</th>\n",
       "      <th>id</th>\n",
       "      <th>developer</th>\n",
       "    </tr>\n",
       "  </thead>\n",
       "  <tbody>\n",
       "    <tr>\n",
       "      <th>88457</th>\n",
       "      <td>Telltale Games</td>\n",
       "      <td>[Adventure]</td>\n",
       "      <td>Bone: The Great Cow Race</td>\n",
       "      <td>Bone: The Great Cow Race</td>\n",
       "      <td>http://store.steampowered.com/app/8320/Bone_Th...</td>\n",
       "      <td>2006-04-12</td>\n",
       "      <td>[Adventure, Point &amp; Click]</td>\n",
       "      <td>http://steamcommunity.com/app/8320/reviews/?br...</td>\n",
       "      <td>[Single-player]</td>\n",
       "      <td>9.99</td>\n",
       "      <td>0.0</td>\n",
       "      <td>8320</td>\n",
       "      <td>Telltale Games</td>\n",
       "    </tr>\n",
       "    <tr>\n",
       "      <th>105517</th>\n",
       "      <td>Avant Games</td>\n",
       "      <td>[Action, Adventure, Free to Play, Indie, RPG, ...</td>\n",
       "      <td>Dragon Souls</td>\n",
       "      <td>Dragon Souls</td>\n",
       "      <td>http://store.steampowered.com/app/510370/Drago...</td>\n",
       "      <td>Early Access Starting Soon!</td>\n",
       "      <td>[Free to Play, Action, Adventure, Dragons, Str...</td>\n",
       "      <td>http://steamcommunity.com/app/510370/reviews/?...</td>\n",
       "      <td>[Online Multi-Player, Steam Achievements, In-A...</td>\n",
       "      <td>None</td>\n",
       "      <td>0.0</td>\n",
       "      <td>510370</td>\n",
       "      <td>Avant Games</td>\n",
       "    </tr>\n",
       "    <tr>\n",
       "      <th>109537</th>\n",
       "      <td>None</td>\n",
       "      <td>[Action]</td>\n",
       "      <td>DEAD OR ALIVE 5 Last Round: Core Fighters Char...</td>\n",
       "      <td>DEAD OR ALIVE 5 Last Round: Core Fighters Char...</td>\n",
       "      <td>http://store.steampowered.com/app/531170/DEAD_...</td>\n",
       "      <td>2016-10-03</td>\n",
       "      <td>[Action]</td>\n",
       "      <td>http://steamcommunity.com/app/531170/reviews/?...</td>\n",
       "      <td>[Single-player, Multi-player, Downloadable Con...</td>\n",
       "      <td>3.99</td>\n",
       "      <td>0.0</td>\n",
       "      <td>531170</td>\n",
       "      <td>Team NINJA,KOEI TECMO GAMES CO., LTD.</td>\n",
       "    </tr>\n",
       "    <tr>\n",
       "      <th>114810</th>\n",
       "      <td>Diabolical Mind</td>\n",
       "      <td>[Action, Adventure, Indie, RPG]</td>\n",
       "      <td>Riddled Corpses</td>\n",
       "      <td>Riddled Corpses</td>\n",
       "      <td>http://store.steampowered.com/app/369890/Riddl...</td>\n",
       "      <td>2015-06-02</td>\n",
       "      <td>[Action, Indie, RPG, Adventure, Shoot 'Em Up, ...</td>\n",
       "      <td>http://steamcommunity.com/app/369890/reviews/?...</td>\n",
       "      <td>[Single-player, Co-op, Steam Achievements, Ful...</td>\n",
       "      <td>7.99</td>\n",
       "      <td>0.0</td>\n",
       "      <td>369890</td>\n",
       "      <td>Daniel Fernandez Chavez</td>\n",
       "    </tr>\n",
       "    <tr>\n",
       "      <th>104530</th>\n",
       "      <td>Craftven</td>\n",
       "      <td>[Action, Casual, Indie, Sports, Strategy]</td>\n",
       "      <td>Lupinball</td>\n",
       "      <td>Lupinball</td>\n",
       "      <td>http://store.steampowered.com/app/429360/Lupin...</td>\n",
       "      <td>2017-08-17</td>\n",
       "      <td>[Action, Indie, Sports, Casual, Strategy, Pixe...</td>\n",
       "      <td>http://steamcommunity.com/app/429360/reviews/?...</td>\n",
       "      <td>[Single-player, Multi-player, Online Multi-Pla...</td>\n",
       "      <td>9.99</td>\n",
       "      <td>0.0</td>\n",
       "      <td>429360</td>\n",
       "      <td>Craftven</td>\n",
       "    </tr>\n",
       "    <tr>\n",
       "      <th>95805</th>\n",
       "      <td>None</td>\n",
       "      <td>None</td>\n",
       "      <td>Out of Print</td>\n",
       "      <td>Out of Print</td>\n",
       "      <td>http://store.steampowered.com/app/537870/Out_o...</td>\n",
       "      <td>2016-04-29</td>\n",
       "      <td>[Historical, Documentary]</td>\n",
       "      <td>http://steamcommunity.com/app/537870/reviews/?...</td>\n",
       "      <td>[Captions available]</td>\n",
       "      <td>4.99</td>\n",
       "      <td>0.0</td>\n",
       "      <td>537870</td>\n",
       "      <td>None</td>\n",
       "    </tr>\n",
       "    <tr>\n",
       "      <th>118728</th>\n",
       "      <td>Ubisoft</td>\n",
       "      <td>[Casual, Simulation]</td>\n",
       "      <td>Rocksmith - Eric Johnson - Cliffs of Dover</td>\n",
       "      <td>Rocksmith - Eric Johnson - Cliffs of Dover</td>\n",
       "      <td>http://store.steampowered.com/app/222073/Rocks...</td>\n",
       "      <td>2013-01-15</td>\n",
       "      <td>[Casual, Simulation]</td>\n",
       "      <td>http://steamcommunity.com/app/222073/reviews/?...</td>\n",
       "      <td>[Single-player, Shared/Split Screen, Downloada...</td>\n",
       "      <td>2.99</td>\n",
       "      <td>0.0</td>\n",
       "      <td>222073</td>\n",
       "      <td>Ubisoft - San Francisco</td>\n",
       "    </tr>\n",
       "    <tr>\n",
       "      <th>95834</th>\n",
       "      <td>Flying Helmet Games</td>\n",
       "      <td>[Action, Adventure, Indie, RPG]</td>\n",
       "      <td>Eon Altar: Episode 2 - Whispers in the Catacombs</td>\n",
       "      <td>Eon Altar: Episode 2 - Whispers in the Catacombs</td>\n",
       "      <td>http://store.steampowered.com/app/477890/Eon_A...</td>\n",
       "      <td>2016-10-06</td>\n",
       "      <td>[RPG, Indie, Action, Adventure, Co-op Campaign...</td>\n",
       "      <td>http://steamcommunity.com/app/477890/reviews/?...</td>\n",
       "      <td>[Single-player, Multi-player, Local Multi-Play...</td>\n",
       "      <td>6.99</td>\n",
       "      <td>0.0</td>\n",
       "      <td>477890</td>\n",
       "      <td>Flying Helmet Games</td>\n",
       "    </tr>\n",
       "    <tr>\n",
       "      <th>118908</th>\n",
       "      <td>1C Company</td>\n",
       "      <td>[RPG, Strategy]</td>\n",
       "      <td>King's Bounty: Warriors of the North</td>\n",
       "      <td>King's Bounty: Warriors of the North</td>\n",
       "      <td>http://store.steampowered.com/app/203350/Kings...</td>\n",
       "      <td>2012-10-25</td>\n",
       "      <td>[RPG, Strategy, Turn-Based Strategy, Tactical,...</td>\n",
       "      <td>http://steamcommunity.com/app/203350/reviews/?...</td>\n",
       "      <td>[Single-player, Steam Achievements, Steam Trad...</td>\n",
       "      <td>9.99</td>\n",
       "      <td>0.0</td>\n",
       "      <td>203350</td>\n",
       "      <td>1C-SoftClub</td>\n",
       "    </tr>\n",
       "    <tr>\n",
       "      <th>88436</th>\n",
       "      <td>Ubisoft</td>\n",
       "      <td>[Action]</td>\n",
       "      <td>Tom Clancy's Splinter Cell®</td>\n",
       "      <td>Tom Clancy's Splinter Cell®</td>\n",
       "      <td>http://store.steampowered.com/app/13560/Tom_Cl...</td>\n",
       "      <td>2003-02-18</td>\n",
       "      <td>[Stealth, Action, Third Person, Singleplayer, ...</td>\n",
       "      <td>http://steamcommunity.com/app/13560/reviews/?b...</td>\n",
       "      <td>[Single-player]</td>\n",
       "      <td>9.99</td>\n",
       "      <td>0.0</td>\n",
       "      <td>13560</td>\n",
       "      <td>Ubisoft</td>\n",
       "    </tr>\n",
       "  </tbody>\n",
       "</table>\n",
       "</div>"
      ],
      "text/plain": [
       "                  publisher  \\\n",
       "88457        Telltale Games   \n",
       "105517          Avant Games   \n",
       "109537                 None   \n",
       "114810      Diabolical Mind   \n",
       "104530             Craftven   \n",
       "95805                  None   \n",
       "118728              Ubisoft   \n",
       "95834   Flying Helmet Games   \n",
       "118908           1C Company   \n",
       "88436               Ubisoft   \n",
       "\n",
       "                                                   genres  \\\n",
       "88457                                         [Adventure]   \n",
       "105517  [Action, Adventure, Free to Play, Indie, RPG, ...   \n",
       "109537                                           [Action]   \n",
       "114810                    [Action, Adventure, Indie, RPG]   \n",
       "104530          [Action, Casual, Indie, Sports, Strategy]   \n",
       "95805                                                None   \n",
       "118728                               [Casual, Simulation]   \n",
       "95834                     [Action, Adventure, Indie, RPG]   \n",
       "118908                                    [RPG, Strategy]   \n",
       "88436                                            [Action]   \n",
       "\n",
       "                                                 app_name  \\\n",
       "88457                            Bone: The Great Cow Race   \n",
       "105517                                       Dragon Souls   \n",
       "109537  DEAD OR ALIVE 5 Last Round: Core Fighters Char...   \n",
       "114810                                    Riddled Corpses   \n",
       "104530                                          Lupinball   \n",
       "95805                                        Out of Print   \n",
       "118728         Rocksmith - Eric Johnson - Cliffs of Dover   \n",
       "95834    Eon Altar: Episode 2 - Whispers in the Catacombs   \n",
       "118908               King's Bounty: Warriors of the North   \n",
       "88436                         Tom Clancy's Splinter Cell®   \n",
       "\n",
       "                                                    title  \\\n",
       "88457                            Bone: The Great Cow Race   \n",
       "105517                                       Dragon Souls   \n",
       "109537  DEAD OR ALIVE 5 Last Round: Core Fighters Char...   \n",
       "114810                                    Riddled Corpses   \n",
       "104530                                          Lupinball   \n",
       "95805                                        Out of Print   \n",
       "118728         Rocksmith - Eric Johnson - Cliffs of Dover   \n",
       "95834    Eon Altar: Episode 2 - Whispers in the Catacombs   \n",
       "118908               King's Bounty: Warriors of the North   \n",
       "88436                         Tom Clancy's Splinter Cell®   \n",
       "\n",
       "                                                      url  \\\n",
       "88457   http://store.steampowered.com/app/8320/Bone_Th...   \n",
       "105517  http://store.steampowered.com/app/510370/Drago...   \n",
       "109537  http://store.steampowered.com/app/531170/DEAD_...   \n",
       "114810  http://store.steampowered.com/app/369890/Riddl...   \n",
       "104530  http://store.steampowered.com/app/429360/Lupin...   \n",
       "95805   http://store.steampowered.com/app/537870/Out_o...   \n",
       "118728  http://store.steampowered.com/app/222073/Rocks...   \n",
       "95834   http://store.steampowered.com/app/477890/Eon_A...   \n",
       "118908  http://store.steampowered.com/app/203350/Kings...   \n",
       "88436   http://store.steampowered.com/app/13560/Tom_Cl...   \n",
       "\n",
       "                       release_date  \\\n",
       "88457                    2006-04-12   \n",
       "105517  Early Access Starting Soon!   \n",
       "109537                   2016-10-03   \n",
       "114810                   2015-06-02   \n",
       "104530                   2017-08-17   \n",
       "95805                    2016-04-29   \n",
       "118728                   2013-01-15   \n",
       "95834                    2016-10-06   \n",
       "118908                   2012-10-25   \n",
       "88436                    2003-02-18   \n",
       "\n",
       "                                                     tags  \\\n",
       "88457                          [Adventure, Point & Click]   \n",
       "105517  [Free to Play, Action, Adventure, Dragons, Str...   \n",
       "109537                                           [Action]   \n",
       "114810  [Action, Indie, RPG, Adventure, Shoot 'Em Up, ...   \n",
       "104530  [Action, Indie, Sports, Casual, Strategy, Pixe...   \n",
       "95805                           [Historical, Documentary]   \n",
       "118728                               [Casual, Simulation]   \n",
       "95834   [RPG, Indie, Action, Adventure, Co-op Campaign...   \n",
       "118908  [RPG, Strategy, Turn-Based Strategy, Tactical,...   \n",
       "88436   [Stealth, Action, Third Person, Singleplayer, ...   \n",
       "\n",
       "                                              reviews_url  \\\n",
       "88457   http://steamcommunity.com/app/8320/reviews/?br...   \n",
       "105517  http://steamcommunity.com/app/510370/reviews/?...   \n",
       "109537  http://steamcommunity.com/app/531170/reviews/?...   \n",
       "114810  http://steamcommunity.com/app/369890/reviews/?...   \n",
       "104530  http://steamcommunity.com/app/429360/reviews/?...   \n",
       "95805   http://steamcommunity.com/app/537870/reviews/?...   \n",
       "118728  http://steamcommunity.com/app/222073/reviews/?...   \n",
       "95834   http://steamcommunity.com/app/477890/reviews/?...   \n",
       "118908  http://steamcommunity.com/app/203350/reviews/?...   \n",
       "88436   http://steamcommunity.com/app/13560/reviews/?b...   \n",
       "\n",
       "                                                    specs price  early_access  \\\n",
       "88457                                     [Single-player]  9.99           0.0   \n",
       "105517  [Online Multi-Player, Steam Achievements, In-A...  None           0.0   \n",
       "109537  [Single-player, Multi-player, Downloadable Con...  3.99           0.0   \n",
       "114810  [Single-player, Co-op, Steam Achievements, Ful...  7.99           0.0   \n",
       "104530  [Single-player, Multi-player, Online Multi-Pla...  9.99           0.0   \n",
       "95805                                [Captions available]  4.99           0.0   \n",
       "118728  [Single-player, Shared/Split Screen, Downloada...  2.99           0.0   \n",
       "95834   [Single-player, Multi-player, Local Multi-Play...  6.99           0.0   \n",
       "118908  [Single-player, Steam Achievements, Steam Trad...  9.99           0.0   \n",
       "88436                                     [Single-player]  9.99           0.0   \n",
       "\n",
       "            id                              developer  \n",
       "88457     8320                         Telltale Games  \n",
       "105517  510370                            Avant Games  \n",
       "109537  531170  Team NINJA,KOEI TECMO GAMES CO., LTD.  \n",
       "114810  369890                Daniel Fernandez Chavez  \n",
       "104530  429360                               Craftven  \n",
       "95805   537870                                   None  \n",
       "118728  222073                Ubisoft - San Francisco  \n",
       "95834   477890                    Flying Helmet Games  \n",
       "118908  203350                            1C-SoftClub  \n",
       "88436    13560                                Ubisoft  "
      ]
     },
     "execution_count": 17,
     "metadata": {},
     "output_type": "execute_result"
    }
   ],
   "source": [
    "stg.sample(10)"
   ]
  },
  {
   "cell_type": "markdown",
   "metadata": {},
   "source": [
    "Ahora se eliminan las columnas que no se requieren para el análisis de las funciones:"
   ]
  },
  {
   "cell_type": "code",
   "execution_count": 95,
   "metadata": {},
   "outputs": [
    {
     "data": {
      "text/html": [
       "<div>\n",
       "<style scoped>\n",
       "    .dataframe tbody tr th:only-of-type {\n",
       "        vertical-align: middle;\n",
       "    }\n",
       "\n",
       "    .dataframe tbody tr th {\n",
       "        vertical-align: top;\n",
       "    }\n",
       "\n",
       "    .dataframe thead th {\n",
       "        text-align: right;\n",
       "    }\n",
       "</style>\n",
       "<table border=\"1\" class=\"dataframe\">\n",
       "  <thead>\n",
       "    <tr style=\"text-align: right;\">\n",
       "      <th></th>\n",
       "      <th>publisher</th>\n",
       "      <th>genres</th>\n",
       "      <th>app_name</th>\n",
       "      <th>title</th>\n",
       "      <th>url</th>\n",
       "      <th>release_date</th>\n",
       "      <th>tags</th>\n",
       "      <th>reviews_url</th>\n",
       "      <th>specs</th>\n",
       "      <th>price</th>\n",
       "      <th>early_access</th>\n",
       "      <th>id</th>\n",
       "      <th>developer</th>\n",
       "    </tr>\n",
       "  </thead>\n",
       "  <tbody>\n",
       "    <tr>\n",
       "      <th>88310</th>\n",
       "      <td>Kotoshiro</td>\n",
       "      <td>[Action, Casual, Indie, Simulation, Strategy]</td>\n",
       "      <td>Lost Summoner Kitty</td>\n",
       "      <td>Lost Summoner Kitty</td>\n",
       "      <td>http://store.steampowered.com/app/761140/Lost_...</td>\n",
       "      <td>2018-01-04</td>\n",
       "      <td>[Strategy, Action, Indie, Casual, Simulation]</td>\n",
       "      <td>http://steamcommunity.com/app/761140/reviews/?...</td>\n",
       "      <td>[Single-player]</td>\n",
       "      <td>4.99</td>\n",
       "      <td>0.0</td>\n",
       "      <td>761140</td>\n",
       "      <td>Kotoshiro</td>\n",
       "    </tr>\n",
       "    <tr>\n",
       "      <th>88311</th>\n",
       "      <td>Making Fun, Inc.</td>\n",
       "      <td>[Free to Play, Indie, RPG, Strategy]</td>\n",
       "      <td>Ironbound</td>\n",
       "      <td>Ironbound</td>\n",
       "      <td>http://store.steampowered.com/app/643980/Ironb...</td>\n",
       "      <td>2018-01-04</td>\n",
       "      <td>[Free to Play, Strategy, Indie, RPG, Card Game...</td>\n",
       "      <td>http://steamcommunity.com/app/643980/reviews/?...</td>\n",
       "      <td>[Single-player, Multi-player, Online Multi-Pla...</td>\n",
       "      <td>Free To Play</td>\n",
       "      <td>0.0</td>\n",
       "      <td>643980</td>\n",
       "      <td>Secret Level SRL</td>\n",
       "    </tr>\n",
       "    <tr>\n",
       "      <th>88312</th>\n",
       "      <td>Poolians.com</td>\n",
       "      <td>[Casual, Free to Play, Indie, Simulation, Sports]</td>\n",
       "      <td>Real Pool 3D - Poolians</td>\n",
       "      <td>Real Pool 3D - Poolians</td>\n",
       "      <td>http://store.steampowered.com/app/670290/Real_...</td>\n",
       "      <td>2017-07-24</td>\n",
       "      <td>[Free to Play, Simulation, Sports, Casual, Ind...</td>\n",
       "      <td>http://steamcommunity.com/app/670290/reviews/?...</td>\n",
       "      <td>[Single-player, Multi-player, Online Multi-Pla...</td>\n",
       "      <td>Free to Play</td>\n",
       "      <td>0.0</td>\n",
       "      <td>670290</td>\n",
       "      <td>Poolians.com</td>\n",
       "    </tr>\n",
       "    <tr>\n",
       "      <th>88313</th>\n",
       "      <td>彼岸领域</td>\n",
       "      <td>[Action, Adventure, Casual]</td>\n",
       "      <td>弹炸人2222</td>\n",
       "      <td>弹炸人2222</td>\n",
       "      <td>http://store.steampowered.com/app/767400/2222/</td>\n",
       "      <td>2017-12-07</td>\n",
       "      <td>[Action, Adventure, Casual]</td>\n",
       "      <td>http://steamcommunity.com/app/767400/reviews/?...</td>\n",
       "      <td>[Single-player]</td>\n",
       "      <td>0.99</td>\n",
       "      <td>0.0</td>\n",
       "      <td>767400</td>\n",
       "      <td>彼岸领域</td>\n",
       "    </tr>\n",
       "    <tr>\n",
       "      <th>88314</th>\n",
       "      <td>None</td>\n",
       "      <td>None</td>\n",
       "      <td>Log Challenge</td>\n",
       "      <td>None</td>\n",
       "      <td>http://store.steampowered.com/app/773570/Log_C...</td>\n",
       "      <td>None</td>\n",
       "      <td>[Action, Indie, Casual, Sports]</td>\n",
       "      <td>http://steamcommunity.com/app/773570/reviews/?...</td>\n",
       "      <td>[Single-player, Full controller support, HTC V...</td>\n",
       "      <td>2.99</td>\n",
       "      <td>0.0</td>\n",
       "      <td>773570</td>\n",
       "      <td>None</td>\n",
       "    </tr>\n",
       "  </tbody>\n",
       "</table>\n",
       "</div>"
      ],
      "text/plain": [
       "              publisher                                             genres  \\\n",
       "88310         Kotoshiro      [Action, Casual, Indie, Simulation, Strategy]   \n",
       "88311  Making Fun, Inc.               [Free to Play, Indie, RPG, Strategy]   \n",
       "88312      Poolians.com  [Casual, Free to Play, Indie, Simulation, Sports]   \n",
       "88313              彼岸领域                        [Action, Adventure, Casual]   \n",
       "88314              None                                               None   \n",
       "\n",
       "                      app_name                    title  \\\n",
       "88310      Lost Summoner Kitty      Lost Summoner Kitty   \n",
       "88311                Ironbound                Ironbound   \n",
       "88312  Real Pool 3D - Poolians  Real Pool 3D - Poolians   \n",
       "88313                  弹炸人2222                  弹炸人2222   \n",
       "88314            Log Challenge                     None   \n",
       "\n",
       "                                                     url release_date  \\\n",
       "88310  http://store.steampowered.com/app/761140/Lost_...   2018-01-04   \n",
       "88311  http://store.steampowered.com/app/643980/Ironb...   2018-01-04   \n",
       "88312  http://store.steampowered.com/app/670290/Real_...   2017-07-24   \n",
       "88313     http://store.steampowered.com/app/767400/2222/   2017-12-07   \n",
       "88314  http://store.steampowered.com/app/773570/Log_C...         None   \n",
       "\n",
       "                                                    tags  \\\n",
       "88310      [Strategy, Action, Indie, Casual, Simulation]   \n",
       "88311  [Free to Play, Strategy, Indie, RPG, Card Game...   \n",
       "88312  [Free to Play, Simulation, Sports, Casual, Ind...   \n",
       "88313                        [Action, Adventure, Casual]   \n",
       "88314                    [Action, Indie, Casual, Sports]   \n",
       "\n",
       "                                             reviews_url  \\\n",
       "88310  http://steamcommunity.com/app/761140/reviews/?...   \n",
       "88311  http://steamcommunity.com/app/643980/reviews/?...   \n",
       "88312  http://steamcommunity.com/app/670290/reviews/?...   \n",
       "88313  http://steamcommunity.com/app/767400/reviews/?...   \n",
       "88314  http://steamcommunity.com/app/773570/reviews/?...   \n",
       "\n",
       "                                                   specs         price  \\\n",
       "88310                                    [Single-player]          4.99   \n",
       "88311  [Single-player, Multi-player, Online Multi-Pla...  Free To Play   \n",
       "88312  [Single-player, Multi-player, Online Multi-Pla...  Free to Play   \n",
       "88313                                    [Single-player]          0.99   \n",
       "88314  [Single-player, Full controller support, HTC V...          2.99   \n",
       "\n",
       "       early_access      id         developer  \n",
       "88310           0.0  761140         Kotoshiro  \n",
       "88311           0.0  643980  Secret Level SRL  \n",
       "88312           0.0  670290      Poolians.com  \n",
       "88313           0.0  767400              彼岸领域  \n",
       "88314           0.0  773570              None  "
      ]
     },
     "execution_count": 95,
     "metadata": {},
     "output_type": "execute_result"
    }
   ],
   "source": [
    "stg.head()"
   ]
  },
  {
   "cell_type": "code",
   "execution_count": 96,
   "metadata": {},
   "outputs": [],
   "source": [
    "stg3=stg"
   ]
  },
  {
   "cell_type": "code",
   "execution_count": 97,
   "metadata": {},
   "outputs": [],
   "source": [
    "stg1= stg.drop(columns=['title','url','reviews_url','early_access','specs','tags', 'developer'])"
   ]
  },
  {
   "cell_type": "code",
   "execution_count": 98,
   "metadata": {},
   "outputs": [
    {
     "name": "stdout",
     "output_type": "stream",
     "text": [
      "<class 'pandas.core.frame.DataFrame'>\n",
      "Index: 32132 entries, 88310 to 120444\n",
      "Data columns (total 6 columns):\n",
      " #   Column        Non-Null Count  Dtype \n",
      "---  ------        --------------  ----- \n",
      " 0   publisher     24081 non-null  object\n",
      " 1   genres        28850 non-null  object\n",
      " 2   app_name      32131 non-null  object\n",
      " 3   release_date  30066 non-null  object\n",
      " 4   price         30755 non-null  object\n",
      " 5   id            32132 non-null  int32 \n",
      "dtypes: int32(1), object(5)\n",
      "memory usage: 1.6+ MB\n"
     ]
    }
   ],
   "source": [
    "stg1.info()"
   ]
  },
  {
   "cell_type": "code",
   "execution_count": 99,
   "metadata": {},
   "outputs": [
    {
     "data": {
      "text/html": [
       "<div>\n",
       "<style scoped>\n",
       "    .dataframe tbody tr th:only-of-type {\n",
       "        vertical-align: middle;\n",
       "    }\n",
       "\n",
       "    .dataframe tbody tr th {\n",
       "        vertical-align: top;\n",
       "    }\n",
       "\n",
       "    .dataframe thead th {\n",
       "        text-align: right;\n",
       "    }\n",
       "</style>\n",
       "<table border=\"1\" class=\"dataframe\">\n",
       "  <thead>\n",
       "    <tr style=\"text-align: right;\">\n",
       "      <th></th>\n",
       "      <th>publisher</th>\n",
       "      <th>genres</th>\n",
       "      <th>app_name</th>\n",
       "      <th>release_date</th>\n",
       "      <th>price</th>\n",
       "      <th>id</th>\n",
       "    </tr>\n",
       "  </thead>\n",
       "  <tbody>\n",
       "    <tr>\n",
       "      <th>88310</th>\n",
       "      <td>Kotoshiro</td>\n",
       "      <td>[Action, Casual, Indie, Simulation, Strategy]</td>\n",
       "      <td>Lost Summoner Kitty</td>\n",
       "      <td>2018-01-04</td>\n",
       "      <td>4.99</td>\n",
       "      <td>761140</td>\n",
       "    </tr>\n",
       "    <tr>\n",
       "      <th>88311</th>\n",
       "      <td>Making Fun, Inc.</td>\n",
       "      <td>[Free to Play, Indie, RPG, Strategy]</td>\n",
       "      <td>Ironbound</td>\n",
       "      <td>2018-01-04</td>\n",
       "      <td>Free To Play</td>\n",
       "      <td>643980</td>\n",
       "    </tr>\n",
       "    <tr>\n",
       "      <th>88312</th>\n",
       "      <td>Poolians.com</td>\n",
       "      <td>[Casual, Free to Play, Indie, Simulation, Sports]</td>\n",
       "      <td>Real Pool 3D - Poolians</td>\n",
       "      <td>2017-07-24</td>\n",
       "      <td>Free to Play</td>\n",
       "      <td>670290</td>\n",
       "    </tr>\n",
       "    <tr>\n",
       "      <th>88313</th>\n",
       "      <td>彼岸领域</td>\n",
       "      <td>[Action, Adventure, Casual]</td>\n",
       "      <td>弹炸人2222</td>\n",
       "      <td>2017-12-07</td>\n",
       "      <td>0.99</td>\n",
       "      <td>767400</td>\n",
       "    </tr>\n",
       "    <tr>\n",
       "      <th>88314</th>\n",
       "      <td>None</td>\n",
       "      <td>None</td>\n",
       "      <td>Log Challenge</td>\n",
       "      <td>None</td>\n",
       "      <td>2.99</td>\n",
       "      <td>773570</td>\n",
       "    </tr>\n",
       "  </tbody>\n",
       "</table>\n",
       "</div>"
      ],
      "text/plain": [
       "              publisher                                             genres  \\\n",
       "88310         Kotoshiro      [Action, Casual, Indie, Simulation, Strategy]   \n",
       "88311  Making Fun, Inc.               [Free to Play, Indie, RPG, Strategy]   \n",
       "88312      Poolians.com  [Casual, Free to Play, Indie, Simulation, Sports]   \n",
       "88313              彼岸领域                        [Action, Adventure, Casual]   \n",
       "88314              None                                               None   \n",
       "\n",
       "                      app_name release_date         price      id  \n",
       "88310      Lost Summoner Kitty   2018-01-04          4.99  761140  \n",
       "88311                Ironbound   2018-01-04  Free To Play  643980  \n",
       "88312  Real Pool 3D - Poolians   2017-07-24  Free to Play  670290  \n",
       "88313                  弹炸人2222   2017-12-07          0.99  767400  \n",
       "88314            Log Challenge         None          2.99  773570  "
      ]
     },
     "execution_count": 99,
     "metadata": {},
     "output_type": "execute_result"
    }
   ],
   "source": [
    "stg1.head()"
   ]
  },
  {
   "cell_type": "markdown",
   "metadata": {},
   "source": [
    "Es necesario eliminar los registros nulos para las columnas de generos y año de lanzamiento:"
   ]
  },
  {
   "cell_type": "code",
   "execution_count": 100,
   "metadata": {},
   "outputs": [],
   "source": [
    "stg1 = stg1.dropna(subset=['genres'])\n",
    "stg1 = stg1.dropna(subset=['release_date'])"
   ]
  },
  {
   "cell_type": "code",
   "execution_count": 101,
   "metadata": {},
   "outputs": [
    {
     "name": "stdout",
     "output_type": "stream",
     "text": [
      "<class 'pandas.core.frame.DataFrame'>\n",
      "Index: 28832 entries, 88310 to 120443\n",
      "Data columns (total 6 columns):\n",
      " #   Column        Non-Null Count  Dtype \n",
      "---  ------        --------------  ----- \n",
      " 0   publisher     23936 non-null  object\n",
      " 1   genres        28832 non-null  object\n",
      " 2   app_name      28831 non-null  object\n",
      " 3   release_date  28832 non-null  object\n",
      " 4   price         27616 non-null  object\n",
      " 5   id            28832 non-null  int32 \n",
      "dtypes: int32(1), object(5)\n",
      "memory usage: 1.4+ MB\n"
     ]
    }
   ],
   "source": [
    "stg1.info()"
   ]
  },
  {
   "cell_type": "code",
   "execution_count": 102,
   "metadata": {},
   "outputs": [
    {
     "data": {
      "text/plain": [
       "release_date\n",
       "2012-10-16    100\n",
       "2017-08-31     92\n",
       "2017-09-26     88\n",
       "2017-07-25     78\n",
       "2017-12-19     75\n",
       "             ... \n",
       "2021-12-31      1\n",
       "2014-05-04      1\n",
       "2018-12-20      1\n",
       "1999-03-22      1\n",
       "2018-10-01      1\n",
       "Name: count, Length: 3392, dtype: int64"
      ]
     },
     "execution_count": 102,
     "metadata": {},
     "output_type": "execute_result"
    }
   ],
   "source": [
    "stg1['release_date'].value_counts()"
   ]
  },
  {
   "cell_type": "markdown",
   "metadata": {},
   "source": [
    "Se debe normalizar y estandarizar el campo de fecha ya que contiene muchas formas de escritura:"
   ]
  },
  {
   "cell_type": "code",
   "execution_count": 103,
   "metadata": {},
   "outputs": [],
   "source": [
    "def normalizar(fecha: str):\n",
    "    try:\n",
    "        # convierte la fecha  a entero\n",
    "        return int(fecha)\n",
    "    except ValueError:\n",
    "        try:\n",
    "            # divide la fecha usando un espacio en blanco como delimitador y convierte la segunda parte a entero\n",
    "            return int(fecha.split(\" \")[1])\n",
    "        except (IndexError, ValueError):\n",
    "            try:\n",
    "                # divide la fecha usando \".\" como delimitador y convierte la tercera parte a entero\n",
    "                return int(fecha.split(\".\")[2])\n",
    "            except (IndexError, ValueError):\n",
    "                try:\n",
    "                    # divide la fecha usando un espacio en blanco como delimitador y convierte la quinta parte a entero\n",
    "                    return int(fecha.split(\" \")[4])\n",
    "                except (IndexError, ValueError):\n",
    "                    # Si no se puede convertir, devuelve None\n",
    "                    return None"
   ]
  },
  {
   "cell_type": "code",
   "execution_count": 105,
   "metadata": {},
   "outputs": [
    {
     "name": "stdout",
     "output_type": "stream",
     "text": [
      "88320           Soon..\n",
      "88353             2017\n",
      "88354        Beta测试已开启\n",
      "88560         Jun 2009\n",
      "88816         Oct 2010\n",
      "              ...     \n",
      "120392      15.01.2018\n",
      "120393        Q1, 2018\n",
      "120397     Coming Soon\n",
      "120407            2016\n",
      "120433    January 2018\n",
      "Name: release_date, Length: 285, dtype: object\n"
     ]
    }
   ],
   "source": [
    "# Función para verificar el formato 'YYYY-MM-DD'\n",
    "def dates(date_str):\n",
    "    regex = r'^\\d{4}-\\d{2}-\\d{2}$'\n",
    "    return re.match(regex, date_str) is not None\n",
    "\n",
    "# Crear una máscara booleana para las fechas que no tienen el formato 'YYYY-MM-DD'\n",
    "mascara = ~stg1['release_date'].astype(str).apply(dates)\n",
    "\n",
    "# Filtrar las filas con fechas que no tienen el formato 'YYYY-MM-DD'\n",
    "no_dates = stg1[mascara]\n",
    "\n",
    "# Mostrar las filas con fechas que no tienen el formato 'YYYY-MM-DD'\n",
    "print(stg1[mascara]['release_date'])"
   ]
  },
  {
   "cell_type": "code",
   "execution_count": 106,
   "metadata": {},
   "outputs": [],
   "source": [
    "stg1.loc[mascara, 'year'] = stg1.loc[mascara, 'release_date'].apply(normalizar)\n",
    "\n",
    "# Convertir las fechas válidas a datetime y extraer el año\n",
    "mascara = ~mascara\n",
    "\n",
    "stg1.loc[mascara, 'year'] = pd.to_datetime(stg1.loc[mascara, 'release_date'], errors='coerce').dt.year\n"
   ]
  },
  {
   "cell_type": "code",
   "execution_count": 107,
   "metadata": {},
   "outputs": [],
   "source": [
    "stg1['year'] = stg1['year'].astype(float)"
   ]
  },
  {
   "cell_type": "code",
   "execution_count": 108,
   "metadata": {},
   "outputs": [
    {
     "name": "stdout",
     "output_type": "stream",
     "text": [
      "<class 'pandas.core.frame.DataFrame'>\n",
      "Index: 28832 entries, 88310 to 120443\n",
      "Data columns (total 7 columns):\n",
      " #   Column        Non-Null Count  Dtype  \n",
      "---  ------        --------------  -----  \n",
      " 0   publisher     23936 non-null  object \n",
      " 1   genres        28832 non-null  object \n",
      " 2   app_name      28831 non-null  object \n",
      " 3   release_date  28832 non-null  object \n",
      " 4   price         27616 non-null  object \n",
      " 5   id            28832 non-null  int32  \n",
      " 6   year          28714 non-null  float64\n",
      "dtypes: float64(1), int32(1), object(5)\n",
      "memory usage: 1.6+ MB\n",
      "None\n"
     ]
    }
   ],
   "source": [
    "print(stg1.info())"
   ]
  },
  {
   "cell_type": "markdown",
   "metadata": {},
   "source": [
    "Se elimina ahora la columna release_date ya que no se requiere más."
   ]
  },
  {
   "cell_type": "code",
   "execution_count": 109,
   "metadata": {},
   "outputs": [],
   "source": [
    "stg1.drop(columns=['release_date'],inplace=True)"
   ]
  },
  {
   "cell_type": "code",
   "execution_count": 110,
   "metadata": {},
   "outputs": [
    {
     "data": {
      "text/html": [
       "<div>\n",
       "<style scoped>\n",
       "    .dataframe tbody tr th:only-of-type {\n",
       "        vertical-align: middle;\n",
       "    }\n",
       "\n",
       "    .dataframe tbody tr th {\n",
       "        vertical-align: top;\n",
       "    }\n",
       "\n",
       "    .dataframe thead th {\n",
       "        text-align: right;\n",
       "    }\n",
       "</style>\n",
       "<table border=\"1\" class=\"dataframe\">\n",
       "  <thead>\n",
       "    <tr style=\"text-align: right;\">\n",
       "      <th></th>\n",
       "      <th>publisher</th>\n",
       "      <th>genres</th>\n",
       "      <th>app_name</th>\n",
       "      <th>price</th>\n",
       "      <th>id</th>\n",
       "      <th>year</th>\n",
       "    </tr>\n",
       "  </thead>\n",
       "  <tbody>\n",
       "    <tr>\n",
       "      <th>88310</th>\n",
       "      <td>Kotoshiro</td>\n",
       "      <td>[Action, Casual, Indie, Simulation, Strategy]</td>\n",
       "      <td>Lost Summoner Kitty</td>\n",
       "      <td>4.99</td>\n",
       "      <td>761140</td>\n",
       "      <td>2018.0</td>\n",
       "    </tr>\n",
       "    <tr>\n",
       "      <th>88311</th>\n",
       "      <td>Making Fun, Inc.</td>\n",
       "      <td>[Free to Play, Indie, RPG, Strategy]</td>\n",
       "      <td>Ironbound</td>\n",
       "      <td>Free To Play</td>\n",
       "      <td>643980</td>\n",
       "      <td>2018.0</td>\n",
       "    </tr>\n",
       "    <tr>\n",
       "      <th>88312</th>\n",
       "      <td>Poolians.com</td>\n",
       "      <td>[Casual, Free to Play, Indie, Simulation, Sports]</td>\n",
       "      <td>Real Pool 3D - Poolians</td>\n",
       "      <td>Free to Play</td>\n",
       "      <td>670290</td>\n",
       "      <td>2017.0</td>\n",
       "    </tr>\n",
       "    <tr>\n",
       "      <th>88313</th>\n",
       "      <td>彼岸领域</td>\n",
       "      <td>[Action, Adventure, Casual]</td>\n",
       "      <td>弹炸人2222</td>\n",
       "      <td>0.99</td>\n",
       "      <td>767400</td>\n",
       "      <td>2017.0</td>\n",
       "    </tr>\n",
       "    <tr>\n",
       "      <th>88315</th>\n",
       "      <td>Trickjump Games Ltd</td>\n",
       "      <td>[Action, Adventure, Simulation]</td>\n",
       "      <td>Battle Royale Trainer</td>\n",
       "      <td>3.99</td>\n",
       "      <td>772540</td>\n",
       "      <td>2018.0</td>\n",
       "    </tr>\n",
       "  </tbody>\n",
       "</table>\n",
       "</div>"
      ],
      "text/plain": [
       "                 publisher                                             genres  \\\n",
       "88310            Kotoshiro      [Action, Casual, Indie, Simulation, Strategy]   \n",
       "88311     Making Fun, Inc.               [Free to Play, Indie, RPG, Strategy]   \n",
       "88312         Poolians.com  [Casual, Free to Play, Indie, Simulation, Sports]   \n",
       "88313                 彼岸领域                        [Action, Adventure, Casual]   \n",
       "88315  Trickjump Games Ltd                    [Action, Adventure, Simulation]   \n",
       "\n",
       "                      app_name         price      id    year  \n",
       "88310      Lost Summoner Kitty          4.99  761140  2018.0  \n",
       "88311                Ironbound  Free To Play  643980  2018.0  \n",
       "88312  Real Pool 3D - Poolians  Free to Play  670290  2017.0  \n",
       "88313                  弹炸人2222          0.99  767400  2017.0  \n",
       "88315    Battle Royale Trainer          3.99  772540  2018.0  "
      ]
     },
     "execution_count": 110,
     "metadata": {},
     "output_type": "execute_result"
    }
   ],
   "source": [
    "stg1.head()"
   ]
  },
  {
   "cell_type": "code",
   "execution_count": 111,
   "metadata": {},
   "outputs": [
    {
     "data": {
      "text/plain": [
       "118"
      ]
     },
     "execution_count": 111,
     "metadata": {},
     "output_type": "execute_result"
    }
   ],
   "source": [
    "stg1['year'].isnull().sum()"
   ]
  },
  {
   "cell_type": "code",
   "execution_count": 112,
   "metadata": {},
   "outputs": [],
   "source": [
    "stg1['year'].dropna(inplace=True)"
   ]
  },
  {
   "cell_type": "code",
   "execution_count": 113,
   "metadata": {},
   "outputs": [
    {
     "name": "stdout",
     "output_type": "stream",
     "text": [
      "<class 'pandas.core.frame.DataFrame'>\n",
      "Index: 28832 entries, 88310 to 120443\n",
      "Data columns (total 6 columns):\n",
      " #   Column     Non-Null Count  Dtype  \n",
      "---  ------     --------------  -----  \n",
      " 0   publisher  23936 non-null  object \n",
      " 1   genres     28832 non-null  object \n",
      " 2   app_name   28831 non-null  object \n",
      " 3   price      27616 non-null  object \n",
      " 4   id         28832 non-null  int32  \n",
      " 5   year       28714 non-null  float64\n",
      "dtypes: float64(1), int32(1), object(4)\n",
      "memory usage: 1.4+ MB\n"
     ]
    }
   ],
   "source": [
    "stg1.info()"
   ]
  },
  {
   "cell_type": "code",
   "execution_count": 114,
   "metadata": {},
   "outputs": [],
   "source": [
    "stg1 = stg1.explode('genres').reset_index()  "
   ]
  },
  {
   "cell_type": "code",
   "execution_count": 115,
   "metadata": {},
   "outputs": [
    {
     "data": {
      "text/html": [
       "<div>\n",
       "<style scoped>\n",
       "    .dataframe tbody tr th:only-of-type {\n",
       "        vertical-align: middle;\n",
       "    }\n",
       "\n",
       "    .dataframe tbody tr th {\n",
       "        vertical-align: top;\n",
       "    }\n",
       "\n",
       "    .dataframe thead th {\n",
       "        text-align: right;\n",
       "    }\n",
       "</style>\n",
       "<table border=\"1\" class=\"dataframe\">\n",
       "  <thead>\n",
       "    <tr style=\"text-align: right;\">\n",
       "      <th></th>\n",
       "      <th>index</th>\n",
       "      <th>publisher</th>\n",
       "      <th>genres</th>\n",
       "      <th>app_name</th>\n",
       "      <th>price</th>\n",
       "      <th>id</th>\n",
       "      <th>year</th>\n",
       "    </tr>\n",
       "  </thead>\n",
       "  <tbody>\n",
       "    <tr>\n",
       "      <th>0</th>\n",
       "      <td>88310</td>\n",
       "      <td>Kotoshiro</td>\n",
       "      <td>Action</td>\n",
       "      <td>Lost Summoner Kitty</td>\n",
       "      <td>4.99</td>\n",
       "      <td>761140</td>\n",
       "      <td>2018.0</td>\n",
       "    </tr>\n",
       "    <tr>\n",
       "      <th>1</th>\n",
       "      <td>88310</td>\n",
       "      <td>Kotoshiro</td>\n",
       "      <td>Casual</td>\n",
       "      <td>Lost Summoner Kitty</td>\n",
       "      <td>4.99</td>\n",
       "      <td>761140</td>\n",
       "      <td>2018.0</td>\n",
       "    </tr>\n",
       "    <tr>\n",
       "      <th>2</th>\n",
       "      <td>88310</td>\n",
       "      <td>Kotoshiro</td>\n",
       "      <td>Indie</td>\n",
       "      <td>Lost Summoner Kitty</td>\n",
       "      <td>4.99</td>\n",
       "      <td>761140</td>\n",
       "      <td>2018.0</td>\n",
       "    </tr>\n",
       "    <tr>\n",
       "      <th>3</th>\n",
       "      <td>88310</td>\n",
       "      <td>Kotoshiro</td>\n",
       "      <td>Simulation</td>\n",
       "      <td>Lost Summoner Kitty</td>\n",
       "      <td>4.99</td>\n",
       "      <td>761140</td>\n",
       "      <td>2018.0</td>\n",
       "    </tr>\n",
       "    <tr>\n",
       "      <th>4</th>\n",
       "      <td>88310</td>\n",
       "      <td>Kotoshiro</td>\n",
       "      <td>Strategy</td>\n",
       "      <td>Lost Summoner Kitty</td>\n",
       "      <td>4.99</td>\n",
       "      <td>761140</td>\n",
       "      <td>2018.0</td>\n",
       "    </tr>\n",
       "  </tbody>\n",
       "</table>\n",
       "</div>"
      ],
      "text/plain": [
       "   index  publisher      genres             app_name price      id    year\n",
       "0  88310  Kotoshiro      Action  Lost Summoner Kitty  4.99  761140  2018.0\n",
       "1  88310  Kotoshiro      Casual  Lost Summoner Kitty  4.99  761140  2018.0\n",
       "2  88310  Kotoshiro       Indie  Lost Summoner Kitty  4.99  761140  2018.0\n",
       "3  88310  Kotoshiro  Simulation  Lost Summoner Kitty  4.99  761140  2018.0\n",
       "4  88310  Kotoshiro    Strategy  Lost Summoner Kitty  4.99  761140  2018.0"
      ]
     },
     "execution_count": 115,
     "metadata": {},
     "output_type": "execute_result"
    }
   ],
   "source": [
    "stg1.head()"
   ]
  },
  {
   "cell_type": "markdown",
   "metadata": {},
   "source": [
    "se elimina la columna index ya que no se necesita"
   ]
  },
  {
   "cell_type": "code",
   "execution_count": 116,
   "metadata": {},
   "outputs": [],
   "source": [
    "stg1.drop(columns=['index'],inplace=True)"
   ]
  },
  {
   "cell_type": "markdown",
   "metadata": {},
   "source": [
    "se realiza una muestra de 2000 items para almacena en dataframe stg2, por la razón de trabajar de forma liviana \n",
    "en API Render."
   ]
  },
  {
   "cell_type": "code",
   "execution_count": 117,
   "metadata": {},
   "outputs": [],
   "source": [
    "stg2 = stg1.sample(2000)"
   ]
  },
  {
   "cell_type": "code",
   "execution_count": 118,
   "metadata": {},
   "outputs": [
    {
     "name": "stdout",
     "output_type": "stream",
     "text": [
      "<class 'pandas.core.frame.DataFrame'>\n",
      "Index: 2000 entries, 69023 to 35190\n",
      "Data columns (total 6 columns):\n",
      " #   Column     Non-Null Count  Dtype  \n",
      "---  ------     --------------  -----  \n",
      " 0   publisher  1676 non-null   object \n",
      " 1   genres     2000 non-null   object \n",
      " 2   app_name   2000 non-null   object \n",
      " 3   price      1900 non-null   object \n",
      " 4   id         2000 non-null   int32  \n",
      " 5   year       1989 non-null   float64\n",
      "dtypes: float64(1), int32(1), object(4)\n",
      "memory usage: 101.6+ KB\n"
     ]
    }
   ],
   "source": [
    "stg2.info()"
   ]
  },
  {
   "cell_type": "markdown",
   "metadata": {},
   "source": [
    "se crea el archivo steam games en formato csv y se guarda en la carpeta datasets"
   ]
  },
  {
   "cell_type": "code",
   "execution_count": 74,
   "metadata": {},
   "outputs": [],
   "source": [
    "stg2.to_csv('../datasets/steam_games.csv',index=False)"
   ]
  },
  {
   "cell_type": "markdown",
   "metadata": {},
   "source": [
    "el dataframe stg1 contiene los datos preprocesados antes de la muestra, para poder desarrollar análisis \n",
    "posteriores en EDA. Así, se crea el archivo steam games 2"
   ]
  },
  {
   "cell_type": "code",
   "execution_count": 119,
   "metadata": {},
   "outputs": [],
   "source": [
    "stg1.to_csv('../datasets/steam_games2.csv',index=False)"
   ]
  },
  {
   "cell_type": "markdown",
   "metadata": {},
   "source": [
    "ARCHIVO USER ITEMS"
   ]
  },
  {
   "cell_type": "markdown",
   "metadata": {},
   "source": [
    "este tipo de archivo comprimido json se debe tratar con una función especial como la siguiente:"
   ]
  },
  {
   "cell_type": "code",
   "execution_count": 40,
   "metadata": {},
   "outputs": [],
   "source": [
    "def read_json(name):\n",
    "    data=[]\n",
    "\n",
    "    with gzip.open(name, 'rb') as file:\n",
    "        for line in file:\n",
    "            deco = line.decode('utf-8')\n",
    "            data.append(ast.literal_eval(deco.strip()))\n",
    "        return data\n"
   ]
  },
  {
   "cell_type": "code",
   "execution_count": 41,
   "metadata": {},
   "outputs": [],
   "source": [
    "arch = \"../datasets/users_items.json.gz\"\n",
    "items = read_json(arch)"
   ]
  },
  {
   "cell_type": "code",
   "execution_count": 42,
   "metadata": {},
   "outputs": [],
   "source": [
    "df = pd.DataFrame(items)                                                 \n",
    " "
   ]
  },
  {
   "cell_type": "code",
   "execution_count": 48,
   "metadata": {},
   "outputs": [
    {
     "data": {
      "text/html": [
       "<div>\n",
       "<style scoped>\n",
       "    .dataframe tbody tr th:only-of-type {\n",
       "        vertical-align: middle;\n",
       "    }\n",
       "\n",
       "    .dataframe tbody tr th {\n",
       "        vertical-align: top;\n",
       "    }\n",
       "\n",
       "    .dataframe thead th {\n",
       "        text-align: right;\n",
       "    }\n",
       "</style>\n",
       "<table border=\"1\" class=\"dataframe\">\n",
       "  <thead>\n",
       "    <tr style=\"text-align: right;\">\n",
       "      <th></th>\n",
       "      <th>items_count</th>\n",
       "    </tr>\n",
       "  </thead>\n",
       "  <tbody>\n",
       "    <tr>\n",
       "      <th>count</th>\n",
       "      <td>88310.000000</td>\n",
       "    </tr>\n",
       "    <tr>\n",
       "      <th>mean</th>\n",
       "      <td>58.353629</td>\n",
       "    </tr>\n",
       "    <tr>\n",
       "      <th>std</th>\n",
       "      <td>122.312095</td>\n",
       "    </tr>\n",
       "    <tr>\n",
       "      <th>min</th>\n",
       "      <td>0.000000</td>\n",
       "    </tr>\n",
       "    <tr>\n",
       "      <th>25%</th>\n",
       "      <td>3.000000</td>\n",
       "    </tr>\n",
       "    <tr>\n",
       "      <th>50%</th>\n",
       "      <td>26.000000</td>\n",
       "    </tr>\n",
       "    <tr>\n",
       "      <th>75%</th>\n",
       "      <td>73.000000</td>\n",
       "    </tr>\n",
       "    <tr>\n",
       "      <th>max</th>\n",
       "      <td>7762.000000</td>\n",
       "    </tr>\n",
       "  </tbody>\n",
       "</table>\n",
       "</div>"
      ],
      "text/plain": [
       "        items_count\n",
       "count  88310.000000\n",
       "mean      58.353629\n",
       "std      122.312095\n",
       "min        0.000000\n",
       "25%        3.000000\n",
       "50%       26.000000\n",
       "75%       73.000000\n",
       "max     7762.000000"
      ]
     },
     "execution_count": 48,
     "metadata": {},
     "output_type": "execute_result"
    }
   ],
   "source": [
    "df.describe()"
   ]
  },
  {
   "cell_type": "code",
   "execution_count": 49,
   "metadata": {},
   "outputs": [
    {
     "name": "stdout",
     "output_type": "stream",
     "text": [
      "<class 'pandas.core.frame.DataFrame'>\n",
      "RangeIndex: 88310 entries, 0 to 88309\n",
      "Data columns (total 5 columns):\n",
      " #   Column       Non-Null Count  Dtype \n",
      "---  ------       --------------  ----- \n",
      " 0   user_id      88310 non-null  object\n",
      " 1   items_count  88310 non-null  int64 \n",
      " 2   steam_id     88310 non-null  object\n",
      " 3   user_url     88310 non-null  object\n",
      " 4   items        88310 non-null  object\n",
      "dtypes: int64(1), object(4)\n",
      "memory usage: 3.4+ MB\n"
     ]
    }
   ],
   "source": [
    "df.info()"
   ]
  },
  {
   "cell_type": "code",
   "execution_count": 50,
   "metadata": {},
   "outputs": [
    {
     "data": {
      "text/html": [
       "<div>\n",
       "<style scoped>\n",
       "    .dataframe tbody tr th:only-of-type {\n",
       "        vertical-align: middle;\n",
       "    }\n",
       "\n",
       "    .dataframe tbody tr th {\n",
       "        vertical-align: top;\n",
       "    }\n",
       "\n",
       "    .dataframe thead th {\n",
       "        text-align: right;\n",
       "    }\n",
       "</style>\n",
       "<table border=\"1\" class=\"dataframe\">\n",
       "  <thead>\n",
       "    <tr style=\"text-align: right;\">\n",
       "      <th></th>\n",
       "      <th>user_id</th>\n",
       "      <th>items_count</th>\n",
       "      <th>steam_id</th>\n",
       "      <th>user_url</th>\n",
       "      <th>items</th>\n",
       "    </tr>\n",
       "  </thead>\n",
       "  <tbody>\n",
       "    <tr>\n",
       "      <th>0</th>\n",
       "      <td>76561197970982479</td>\n",
       "      <td>277</td>\n",
       "      <td>76561197970982479</td>\n",
       "      <td>http://steamcommunity.com/profiles/76561197970...</td>\n",
       "      <td>[{'item_id': '10', 'item_name': 'Counter-Strik...</td>\n",
       "    </tr>\n",
       "    <tr>\n",
       "      <th>1</th>\n",
       "      <td>js41637</td>\n",
       "      <td>888</td>\n",
       "      <td>76561198035864385</td>\n",
       "      <td>http://steamcommunity.com/id/js41637</td>\n",
       "      <td>[{'item_id': '10', 'item_name': 'Counter-Strik...</td>\n",
       "    </tr>\n",
       "    <tr>\n",
       "      <th>2</th>\n",
       "      <td>evcentric</td>\n",
       "      <td>137</td>\n",
       "      <td>76561198007712555</td>\n",
       "      <td>http://steamcommunity.com/id/evcentric</td>\n",
       "      <td>[{'item_id': '1200', 'item_name': 'Red Orchest...</td>\n",
       "    </tr>\n",
       "    <tr>\n",
       "      <th>3</th>\n",
       "      <td>Riot-Punch</td>\n",
       "      <td>328</td>\n",
       "      <td>76561197963445855</td>\n",
       "      <td>http://steamcommunity.com/id/Riot-Punch</td>\n",
       "      <td>[{'item_id': '10', 'item_name': 'Counter-Strik...</td>\n",
       "    </tr>\n",
       "    <tr>\n",
       "      <th>4</th>\n",
       "      <td>doctr</td>\n",
       "      <td>541</td>\n",
       "      <td>76561198002099482</td>\n",
       "      <td>http://steamcommunity.com/id/doctr</td>\n",
       "      <td>[{'item_id': '300', 'item_name': 'Day of Defea...</td>\n",
       "    </tr>\n",
       "  </tbody>\n",
       "</table>\n",
       "</div>"
      ],
      "text/plain": [
       "             user_id  items_count           steam_id  \\\n",
       "0  76561197970982479          277  76561197970982479   \n",
       "1            js41637          888  76561198035864385   \n",
       "2          evcentric          137  76561198007712555   \n",
       "3         Riot-Punch          328  76561197963445855   \n",
       "4              doctr          541  76561198002099482   \n",
       "\n",
       "                                            user_url  \\\n",
       "0  http://steamcommunity.com/profiles/76561197970...   \n",
       "1               http://steamcommunity.com/id/js41637   \n",
       "2             http://steamcommunity.com/id/evcentric   \n",
       "3            http://steamcommunity.com/id/Riot-Punch   \n",
       "4                 http://steamcommunity.com/id/doctr   \n",
       "\n",
       "                                               items  \n",
       "0  [{'item_id': '10', 'item_name': 'Counter-Strik...  \n",
       "1  [{'item_id': '10', 'item_name': 'Counter-Strik...  \n",
       "2  [{'item_id': '1200', 'item_name': 'Red Orchest...  \n",
       "3  [{'item_id': '10', 'item_name': 'Counter-Strik...  \n",
       "4  [{'item_id': '300', 'item_name': 'Day of Defea...  "
      ]
     },
     "execution_count": 50,
     "metadata": {},
     "output_type": "execute_result"
    }
   ],
   "source": [
    "df.head()"
   ]
  },
  {
   "cell_type": "markdown",
   "metadata": {},
   "source": [
    "se utiliza la funcióon explode para expandir la columna items, la cual contiene listas en filas separadas"
   ]
  },
  {
   "cell_type": "code",
   "execution_count": 43,
   "metadata": {},
   "outputs": [],
   "source": [
    "df = df.explode('items').reset_index()   "
   ]
  },
  {
   "cell_type": "code",
   "execution_count": 52,
   "metadata": {},
   "outputs": [
    {
     "name": "stdout",
     "output_type": "stream",
     "text": [
      "<class 'pandas.core.frame.DataFrame'>\n",
      "RangeIndex: 5170015 entries, 0 to 5170014\n",
      "Data columns (total 6 columns):\n",
      " #   Column       Dtype \n",
      "---  ------       ----- \n",
      " 0   index        int64 \n",
      " 1   user_id      object\n",
      " 2   items_count  int64 \n",
      " 3   steam_id     object\n",
      " 4   user_url     object\n",
      " 5   items        object\n",
      "dtypes: int64(2), object(4)\n",
      "memory usage: 236.7+ MB\n"
     ]
    }
   ],
   "source": [
    "df.info()"
   ]
  },
  {
   "cell_type": "code",
   "execution_count": 44,
   "metadata": {},
   "outputs": [],
   "source": [
    "df = df.drop(columns=\"index\") "
   ]
  },
  {
   "cell_type": "markdown",
   "metadata": {},
   "source": [
    "se concatena el datafframe para ña columna items"
   ]
  },
  {
   "cell_type": "markdown",
   "metadata": {},
   "source": []
  },
  {
   "cell_type": "code",
   "execution_count": 45,
   "metadata": {},
   "outputs": [],
   "source": [
    "df = pd.concat([df, pd.json_normalize(df['items'])], axis=1)  "
   ]
  },
  {
   "cell_type": "code",
   "execution_count": 55,
   "metadata": {},
   "outputs": [
    {
     "data": {
      "text/html": [
       "<div>\n",
       "<style scoped>\n",
       "    .dataframe tbody tr th:only-of-type {\n",
       "        vertical-align: middle;\n",
       "    }\n",
       "\n",
       "    .dataframe tbody tr th {\n",
       "        vertical-align: top;\n",
       "    }\n",
       "\n",
       "    .dataframe thead th {\n",
       "        text-align: right;\n",
       "    }\n",
       "</style>\n",
       "<table border=\"1\" class=\"dataframe\">\n",
       "  <thead>\n",
       "    <tr style=\"text-align: right;\">\n",
       "      <th></th>\n",
       "      <th>items_count</th>\n",
       "      <th>playtime_forever</th>\n",
       "      <th>playtime_2weeks</th>\n",
       "    </tr>\n",
       "  </thead>\n",
       "  <tbody>\n",
       "    <tr>\n",
       "      <th>count</th>\n",
       "      <td>5.170015e+06</td>\n",
       "      <td>5.153209e+06</td>\n",
       "      <td>5.153209e+06</td>\n",
       "    </tr>\n",
       "    <tr>\n",
       "      <th>mean</th>\n",
       "      <td>3.136999e+02</td>\n",
       "      <td>9.914951e+02</td>\n",
       "      <td>9.104707e+00</td>\n",
       "    </tr>\n",
       "    <tr>\n",
       "      <th>std</th>\n",
       "      <td>6.924635e+02</td>\n",
       "      <td>5.418204e+03</td>\n",
       "      <td>1.403926e+02</td>\n",
       "    </tr>\n",
       "    <tr>\n",
       "      <th>min</th>\n",
       "      <td>0.000000e+00</td>\n",
       "      <td>0.000000e+00</td>\n",
       "      <td>0.000000e+00</td>\n",
       "    </tr>\n",
       "    <tr>\n",
       "      <th>25%</th>\n",
       "      <td>7.100000e+01</td>\n",
       "      <td>0.000000e+00</td>\n",
       "      <td>0.000000e+00</td>\n",
       "    </tr>\n",
       "    <tr>\n",
       "      <th>50%</th>\n",
       "      <td>1.370000e+02</td>\n",
       "      <td>3.400000e+01</td>\n",
       "      <td>0.000000e+00</td>\n",
       "    </tr>\n",
       "    <tr>\n",
       "      <th>75%</th>\n",
       "      <td>2.750000e+02</td>\n",
       "      <td>3.550000e+02</td>\n",
       "      <td>0.000000e+00</td>\n",
       "    </tr>\n",
       "    <tr>\n",
       "      <th>max</th>\n",
       "      <td>7.762000e+03</td>\n",
       "      <td>6.427730e+05</td>\n",
       "      <td>1.996700e+04</td>\n",
       "    </tr>\n",
       "  </tbody>\n",
       "</table>\n",
       "</div>"
      ],
      "text/plain": [
       "        items_count  playtime_forever  playtime_2weeks\n",
       "count  5.170015e+06      5.153209e+06     5.153209e+06\n",
       "mean   3.136999e+02      9.914951e+02     9.104707e+00\n",
       "std    6.924635e+02      5.418204e+03     1.403926e+02\n",
       "min    0.000000e+00      0.000000e+00     0.000000e+00\n",
       "25%    7.100000e+01      0.000000e+00     0.000000e+00\n",
       "50%    1.370000e+02      3.400000e+01     0.000000e+00\n",
       "75%    2.750000e+02      3.550000e+02     0.000000e+00\n",
       "max    7.762000e+03      6.427730e+05     1.996700e+04"
      ]
     },
     "execution_count": 55,
     "metadata": {},
     "output_type": "execute_result"
    }
   ],
   "source": [
    "df.describe()"
   ]
  },
  {
   "cell_type": "code",
   "execution_count": 56,
   "metadata": {},
   "outputs": [
    {
     "name": "stdout",
     "output_type": "stream",
     "text": [
      "<class 'pandas.core.frame.DataFrame'>\n",
      "RangeIndex: 5170015 entries, 0 to 5170014\n",
      "Data columns (total 9 columns):\n",
      " #   Column            Dtype  \n",
      "---  ------            -----  \n",
      " 0   user_id           object \n",
      " 1   items_count       int64  \n",
      " 2   steam_id          object \n",
      " 3   user_url          object \n",
      " 4   items             object \n",
      " 5   item_id           object \n",
      " 6   item_name         object \n",
      " 7   playtime_forever  float64\n",
      " 8   playtime_2weeks   float64\n",
      "dtypes: float64(2), int64(1), object(6)\n",
      "memory usage: 355.0+ MB\n"
     ]
    }
   ],
   "source": [
    "df.info()"
   ]
  },
  {
   "cell_type": "code",
   "execution_count": 57,
   "metadata": {},
   "outputs": [
    {
     "data": {
      "text/plain": [
       "user_id                 0\n",
       "items_count             0\n",
       "steam_id                0\n",
       "user_url                0\n",
       "items               16806\n",
       "item_id             16806\n",
       "item_name           16806\n",
       "playtime_forever    16806\n",
       "playtime_2weeks     16806\n",
       "dtype: int64"
      ]
     },
     "execution_count": 57,
     "metadata": {},
     "output_type": "execute_result"
    }
   ],
   "source": [
    "df.isnull().sum()"
   ]
  },
  {
   "cell_type": "code",
   "execution_count": 46,
   "metadata": {},
   "outputs": [
    {
     "data": {
      "text/html": [
       "<div>\n",
       "<style scoped>\n",
       "    .dataframe tbody tr th:only-of-type {\n",
       "        vertical-align: middle;\n",
       "    }\n",
       "\n",
       "    .dataframe tbody tr th {\n",
       "        vertical-align: top;\n",
       "    }\n",
       "\n",
       "    .dataframe thead th {\n",
       "        text-align: right;\n",
       "    }\n",
       "</style>\n",
       "<table border=\"1\" class=\"dataframe\">\n",
       "  <thead>\n",
       "    <tr style=\"text-align: right;\">\n",
       "      <th></th>\n",
       "      <th>user_id</th>\n",
       "      <th>items_count</th>\n",
       "      <th>steam_id</th>\n",
       "      <th>user_url</th>\n",
       "      <th>items</th>\n",
       "      <th>item_id</th>\n",
       "      <th>item_name</th>\n",
       "      <th>playtime_forever</th>\n",
       "      <th>playtime_2weeks</th>\n",
       "    </tr>\n",
       "  </thead>\n",
       "  <tbody>\n",
       "    <tr>\n",
       "      <th>3733</th>\n",
       "      <td>Wackky</td>\n",
       "      <td>0</td>\n",
       "      <td>76561198039117046</td>\n",
       "      <td>http://steamcommunity.com/id/Wackky</td>\n",
       "      <td>NaN</td>\n",
       "      <td>NaN</td>\n",
       "      <td>NaN</td>\n",
       "      <td>NaN</td>\n",
       "      <td>NaN</td>\n",
       "    </tr>\n",
       "    <tr>\n",
       "      <th>3849</th>\n",
       "      <td>76561198079601835</td>\n",
       "      <td>0</td>\n",
       "      <td>76561198079601835</td>\n",
       "      <td>http://steamcommunity.com/profiles/76561198079...</td>\n",
       "      <td>NaN</td>\n",
       "      <td>NaN</td>\n",
       "      <td>NaN</td>\n",
       "      <td>NaN</td>\n",
       "      <td>NaN</td>\n",
       "    </tr>\n",
       "    <tr>\n",
       "      <th>6019</th>\n",
       "      <td>hellom8o</td>\n",
       "      <td>0</td>\n",
       "      <td>76561198117222320</td>\n",
       "      <td>http://steamcommunity.com/id/hellom8o</td>\n",
       "      <td>NaN</td>\n",
       "      <td>NaN</td>\n",
       "      <td>NaN</td>\n",
       "      <td>NaN</td>\n",
       "      <td>NaN</td>\n",
       "    </tr>\n",
       "    <tr>\n",
       "      <th>6523</th>\n",
       "      <td>starkillershadow553</td>\n",
       "      <td>0</td>\n",
       "      <td>76561198059648579</td>\n",
       "      <td>http://steamcommunity.com/id/starkillershadow553</td>\n",
       "      <td>NaN</td>\n",
       "      <td>NaN</td>\n",
       "      <td>NaN</td>\n",
       "      <td>NaN</td>\n",
       "      <td>NaN</td>\n",
       "    </tr>\n",
       "    <tr>\n",
       "      <th>7237</th>\n",
       "      <td>darkenkane</td>\n",
       "      <td>0</td>\n",
       "      <td>76561198058876001</td>\n",
       "      <td>http://steamcommunity.com/id/darkenkane</td>\n",
       "      <td>NaN</td>\n",
       "      <td>NaN</td>\n",
       "      <td>NaN</td>\n",
       "      <td>NaN</td>\n",
       "      <td>NaN</td>\n",
       "    </tr>\n",
       "    <tr>\n",
       "      <th>...</th>\n",
       "      <td>...</td>\n",
       "      <td>...</td>\n",
       "      <td>...</td>\n",
       "      <td>...</td>\n",
       "      <td>...</td>\n",
       "      <td>...</td>\n",
       "      <td>...</td>\n",
       "      <td>...</td>\n",
       "      <td>...</td>\n",
       "    </tr>\n",
       "    <tr>\n",
       "      <th>5169470</th>\n",
       "      <td>76561198316380182</td>\n",
       "      <td>0</td>\n",
       "      <td>76561198316380182</td>\n",
       "      <td>http://steamcommunity.com/profiles/76561198316...</td>\n",
       "      <td>NaN</td>\n",
       "      <td>NaN</td>\n",
       "      <td>NaN</td>\n",
       "      <td>NaN</td>\n",
       "      <td>NaN</td>\n",
       "    </tr>\n",
       "    <tr>\n",
       "      <th>5169471</th>\n",
       "      <td>76561198316970597</td>\n",
       "      <td>0</td>\n",
       "      <td>76561198316970597</td>\n",
       "      <td>http://steamcommunity.com/profiles/76561198316...</td>\n",
       "      <td>NaN</td>\n",
       "      <td>NaN</td>\n",
       "      <td>NaN</td>\n",
       "      <td>NaN</td>\n",
       "      <td>NaN</td>\n",
       "    </tr>\n",
       "    <tr>\n",
       "      <th>5169472</th>\n",
       "      <td>76561198318100691</td>\n",
       "      <td>0</td>\n",
       "      <td>76561198318100691</td>\n",
       "      <td>http://steamcommunity.com/profiles/76561198318...</td>\n",
       "      <td>NaN</td>\n",
       "      <td>NaN</td>\n",
       "      <td>NaN</td>\n",
       "      <td>NaN</td>\n",
       "      <td>NaN</td>\n",
       "    </tr>\n",
       "    <tr>\n",
       "      <th>5170006</th>\n",
       "      <td>XxLaughingJackClown77xX</td>\n",
       "      <td>0</td>\n",
       "      <td>76561198328759259</td>\n",
       "      <td>http://steamcommunity.com/id/XxLaughingJackClo...</td>\n",
       "      <td>NaN</td>\n",
       "      <td>NaN</td>\n",
       "      <td>NaN</td>\n",
       "      <td>NaN</td>\n",
       "      <td>NaN</td>\n",
       "    </tr>\n",
       "    <tr>\n",
       "      <th>5170014</th>\n",
       "      <td>edward_tremethick</td>\n",
       "      <td>0</td>\n",
       "      <td>76561198331598578</td>\n",
       "      <td>http://steamcommunity.com/id/edward_tremethick</td>\n",
       "      <td>NaN</td>\n",
       "      <td>NaN</td>\n",
       "      <td>NaN</td>\n",
       "      <td>NaN</td>\n",
       "      <td>NaN</td>\n",
       "    </tr>\n",
       "  </tbody>\n",
       "</table>\n",
       "<p>16806 rows × 9 columns</p>\n",
       "</div>"
      ],
      "text/plain": [
       "                         user_id  items_count           steam_id  \\\n",
       "3733                      Wackky            0  76561198039117046   \n",
       "3849           76561198079601835            0  76561198079601835   \n",
       "6019                    hellom8o            0  76561198117222320   \n",
       "6523         starkillershadow553            0  76561198059648579   \n",
       "7237                  darkenkane            0  76561198058876001   \n",
       "...                          ...          ...                ...   \n",
       "5169470        76561198316380182            0  76561198316380182   \n",
       "5169471        76561198316970597            0  76561198316970597   \n",
       "5169472        76561198318100691            0  76561198318100691   \n",
       "5170006  XxLaughingJackClown77xX            0  76561198328759259   \n",
       "5170014        edward_tremethick            0  76561198331598578   \n",
       "\n",
       "                                                  user_url items item_id  \\\n",
       "3733                   http://steamcommunity.com/id/Wackky   NaN     NaN   \n",
       "3849     http://steamcommunity.com/profiles/76561198079...   NaN     NaN   \n",
       "6019                 http://steamcommunity.com/id/hellom8o   NaN     NaN   \n",
       "6523      http://steamcommunity.com/id/starkillershadow553   NaN     NaN   \n",
       "7237               http://steamcommunity.com/id/darkenkane   NaN     NaN   \n",
       "...                                                    ...   ...     ...   \n",
       "5169470  http://steamcommunity.com/profiles/76561198316...   NaN     NaN   \n",
       "5169471  http://steamcommunity.com/profiles/76561198316...   NaN     NaN   \n",
       "5169472  http://steamcommunity.com/profiles/76561198318...   NaN     NaN   \n",
       "5170006  http://steamcommunity.com/id/XxLaughingJackClo...   NaN     NaN   \n",
       "5170014     http://steamcommunity.com/id/edward_tremethick   NaN     NaN   \n",
       "\n",
       "        item_name  playtime_forever  playtime_2weeks  \n",
       "3733          NaN               NaN              NaN  \n",
       "3849          NaN               NaN              NaN  \n",
       "6019          NaN               NaN              NaN  \n",
       "6523          NaN               NaN              NaN  \n",
       "7237          NaN               NaN              NaN  \n",
       "...           ...               ...              ...  \n",
       "5169470       NaN               NaN              NaN  \n",
       "5169471       NaN               NaN              NaN  \n",
       "5169472       NaN               NaN              NaN  \n",
       "5170006       NaN               NaN              NaN  \n",
       "5170014       NaN               NaN              NaN  \n",
       "\n",
       "[16806 rows x 9 columns]"
      ]
     },
     "execution_count": 46,
     "metadata": {},
     "output_type": "execute_result"
    }
   ],
   "source": [
    "df[df['item_id'].isna()]"
   ]
  },
  {
   "cell_type": "code",
   "execution_count": 47,
   "metadata": {},
   "outputs": [],
   "source": [
    "df.dropna(inplace=True)"
   ]
  },
  {
   "cell_type": "code",
   "execution_count": 59,
   "metadata": {},
   "outputs": [
    {
     "name": "stdout",
     "output_type": "stream",
     "text": [
      "<class 'pandas.core.frame.DataFrame'>\n",
      "Index: 5153209 entries, 0 to 5170013\n",
      "Data columns (total 9 columns):\n",
      " #   Column            Dtype  \n",
      "---  ------            -----  \n",
      " 0   user_id           object \n",
      " 1   items_count       int64  \n",
      " 2   steam_id          object \n",
      " 3   user_url          object \n",
      " 4   items             object \n",
      " 5   item_id           object \n",
      " 6   item_name         object \n",
      " 7   playtime_forever  float64\n",
      " 8   playtime_2weeks   float64\n",
      "dtypes: float64(2), int64(1), object(6)\n",
      "memory usage: 393.2+ MB\n"
     ]
    }
   ],
   "source": [
    "df.info()"
   ]
  },
  {
   "cell_type": "code",
   "execution_count": 60,
   "metadata": {},
   "outputs": [],
   "source": [
    "df['playtime_forever'].dropna(inplace=True)\n",
    "df['item_name'].dropna(inplace=True)\n",
    "df['user_id'].dropna(inplace=True)\n"
   ]
  },
  {
   "cell_type": "code",
   "execution_count": 26,
   "metadata": {},
   "outputs": [
    {
     "data": {
      "text/html": [
       "<div>\n",
       "<style scoped>\n",
       "    .dataframe tbody tr th:only-of-type {\n",
       "        vertical-align: middle;\n",
       "    }\n",
       "\n",
       "    .dataframe tbody tr th {\n",
       "        vertical-align: top;\n",
       "    }\n",
       "\n",
       "    .dataframe thead th {\n",
       "        text-align: right;\n",
       "    }\n",
       "</style>\n",
       "<table border=\"1\" class=\"dataframe\">\n",
       "  <thead>\n",
       "    <tr style=\"text-align: right;\">\n",
       "      <th></th>\n",
       "      <th>items_count</th>\n",
       "      <th>playtime_forever</th>\n",
       "      <th>playtime_2weeks</th>\n",
       "    </tr>\n",
       "  </thead>\n",
       "  <tbody>\n",
       "    <tr>\n",
       "      <th>count</th>\n",
       "      <td>5.153209e+06</td>\n",
       "      <td>5.153209e+06</td>\n",
       "      <td>5.153209e+06</td>\n",
       "    </tr>\n",
       "    <tr>\n",
       "      <th>mean</th>\n",
       "      <td>3.147229e+02</td>\n",
       "      <td>9.914951e+02</td>\n",
       "      <td>9.104707e+00</td>\n",
       "    </tr>\n",
       "    <tr>\n",
       "      <th>std</th>\n",
       "      <td>6.933596e+02</td>\n",
       "      <td>5.418204e+03</td>\n",
       "      <td>1.403926e+02</td>\n",
       "    </tr>\n",
       "    <tr>\n",
       "      <th>min</th>\n",
       "      <td>1.000000e+00</td>\n",
       "      <td>0.000000e+00</td>\n",
       "      <td>0.000000e+00</td>\n",
       "    </tr>\n",
       "    <tr>\n",
       "      <th>25%</th>\n",
       "      <td>7.200000e+01</td>\n",
       "      <td>0.000000e+00</td>\n",
       "      <td>0.000000e+00</td>\n",
       "    </tr>\n",
       "    <tr>\n",
       "      <th>50%</th>\n",
       "      <td>1.380000e+02</td>\n",
       "      <td>3.400000e+01</td>\n",
       "      <td>0.000000e+00</td>\n",
       "    </tr>\n",
       "    <tr>\n",
       "      <th>75%</th>\n",
       "      <td>2.760000e+02</td>\n",
       "      <td>3.550000e+02</td>\n",
       "      <td>0.000000e+00</td>\n",
       "    </tr>\n",
       "    <tr>\n",
       "      <th>max</th>\n",
       "      <td>7.762000e+03</td>\n",
       "      <td>6.427730e+05</td>\n",
       "      <td>1.996700e+04</td>\n",
       "    </tr>\n",
       "  </tbody>\n",
       "</table>\n",
       "</div>"
      ],
      "text/plain": [
       "        items_count  playtime_forever  playtime_2weeks\n",
       "count  5.153209e+06      5.153209e+06     5.153209e+06\n",
       "mean   3.147229e+02      9.914951e+02     9.104707e+00\n",
       "std    6.933596e+02      5.418204e+03     1.403926e+02\n",
       "min    1.000000e+00      0.000000e+00     0.000000e+00\n",
       "25%    7.200000e+01      0.000000e+00     0.000000e+00\n",
       "50%    1.380000e+02      3.400000e+01     0.000000e+00\n",
       "75%    2.760000e+02      3.550000e+02     0.000000e+00\n",
       "max    7.762000e+03      6.427730e+05     1.996700e+04"
      ]
     },
     "execution_count": 26,
     "metadata": {},
     "output_type": "execute_result"
    }
   ],
   "source": [
    "df.describe()"
   ]
  },
  {
   "cell_type": "code",
   "execution_count": 48,
   "metadata": {},
   "outputs": [],
   "source": [
    "df.drop(columns=['user_url', 'playtime_2weeks', 'items'], inplace=True)"
   ]
  },
  {
   "cell_type": "code",
   "execution_count": 62,
   "metadata": {},
   "outputs": [
    {
     "data": {
      "text/html": [
       "<div>\n",
       "<style scoped>\n",
       "    .dataframe tbody tr th:only-of-type {\n",
       "        vertical-align: middle;\n",
       "    }\n",
       "\n",
       "    .dataframe tbody tr th {\n",
       "        vertical-align: top;\n",
       "    }\n",
       "\n",
       "    .dataframe thead th {\n",
       "        text-align: right;\n",
       "    }\n",
       "</style>\n",
       "<table border=\"1\" class=\"dataframe\">\n",
       "  <thead>\n",
       "    <tr style=\"text-align: right;\">\n",
       "      <th></th>\n",
       "      <th>user_id</th>\n",
       "      <th>items_count</th>\n",
       "      <th>steam_id</th>\n",
       "      <th>item_id</th>\n",
       "      <th>item_name</th>\n",
       "      <th>playtime_forever</th>\n",
       "    </tr>\n",
       "  </thead>\n",
       "  <tbody>\n",
       "    <tr>\n",
       "      <th>0</th>\n",
       "      <td>76561197970982479</td>\n",
       "      <td>277</td>\n",
       "      <td>76561197970982479</td>\n",
       "      <td>10</td>\n",
       "      <td>Counter-Strike</td>\n",
       "      <td>6.0</td>\n",
       "    </tr>\n",
       "    <tr>\n",
       "      <th>1</th>\n",
       "      <td>76561197970982479</td>\n",
       "      <td>277</td>\n",
       "      <td>76561197970982479</td>\n",
       "      <td>20</td>\n",
       "      <td>Team Fortress Classic</td>\n",
       "      <td>0.0</td>\n",
       "    </tr>\n",
       "    <tr>\n",
       "      <th>2</th>\n",
       "      <td>76561197970982479</td>\n",
       "      <td>277</td>\n",
       "      <td>76561197970982479</td>\n",
       "      <td>30</td>\n",
       "      <td>Day of Defeat</td>\n",
       "      <td>7.0</td>\n",
       "    </tr>\n",
       "    <tr>\n",
       "      <th>3</th>\n",
       "      <td>76561197970982479</td>\n",
       "      <td>277</td>\n",
       "      <td>76561197970982479</td>\n",
       "      <td>40</td>\n",
       "      <td>Deathmatch Classic</td>\n",
       "      <td>0.0</td>\n",
       "    </tr>\n",
       "    <tr>\n",
       "      <th>4</th>\n",
       "      <td>76561197970982479</td>\n",
       "      <td>277</td>\n",
       "      <td>76561197970982479</td>\n",
       "      <td>50</td>\n",
       "      <td>Half-Life: Opposing Force</td>\n",
       "      <td>0.0</td>\n",
       "    </tr>\n",
       "  </tbody>\n",
       "</table>\n",
       "</div>"
      ],
      "text/plain": [
       "             user_id  items_count           steam_id item_id  \\\n",
       "0  76561197970982479          277  76561197970982479      10   \n",
       "1  76561197970982479          277  76561197970982479      20   \n",
       "2  76561197970982479          277  76561197970982479      30   \n",
       "3  76561197970982479          277  76561197970982479      40   \n",
       "4  76561197970982479          277  76561197970982479      50   \n",
       "\n",
       "                   item_name  playtime_forever  \n",
       "0             Counter-Strike               6.0  \n",
       "1      Team Fortress Classic               0.0  \n",
       "2              Day of Defeat               7.0  \n",
       "3         Deathmatch Classic               0.0  \n",
       "4  Half-Life: Opposing Force               0.0  "
      ]
     },
     "execution_count": 62,
     "metadata": {},
     "output_type": "execute_result"
    }
   ],
   "source": [
    "df.head()"
   ]
  },
  {
   "cell_type": "code",
   "execution_count": 63,
   "metadata": {},
   "outputs": [
    {
     "name": "stdout",
     "output_type": "stream",
     "text": [
      "<class 'pandas.core.frame.DataFrame'>\n",
      "Index: 5153209 entries, 0 to 5170013\n",
      "Data columns (total 6 columns):\n",
      " #   Column            Dtype  \n",
      "---  ------            -----  \n",
      " 0   user_id           object \n",
      " 1   items_count       int64  \n",
      " 2   steam_id          object \n",
      " 3   item_id           object \n",
      " 4   item_name         object \n",
      " 5   playtime_forever  float64\n",
      "dtypes: float64(1), int64(1), object(4)\n",
      "memory usage: 275.2+ MB\n"
     ]
    }
   ],
   "source": [
    "df.info()"
   ]
  },
  {
   "cell_type": "code",
   "execution_count": 70,
   "metadata": {},
   "outputs": [
    {
     "name": "stdout",
     "output_type": "stream",
     "text": [
      "<class 'pandas.core.frame.DataFrame'>\n",
      "Index: 2000 entries, 2559536 to 4381565\n",
      "Data columns (total 6 columns):\n",
      " #   Column            Non-Null Count  Dtype  \n",
      "---  ------            --------------  -----  \n",
      " 0   user_id           2000 non-null   object \n",
      " 1   items_count       2000 non-null   int64  \n",
      " 2   steam_id          2000 non-null   object \n",
      " 3   item_id           2000 non-null   object \n",
      " 4   item_name         2000 non-null   object \n",
      " 5   playtime_forever  2000 non-null   float64\n",
      "dtypes: float64(1), int64(1), object(4)\n",
      "memory usage: 109.4+ KB\n"
     ]
    }
   ],
   "source": [
    "df1 = df.sample(2000)\n",
    "df1.info()"
   ]
  },
  {
   "cell_type": "code",
   "execution_count": 71,
   "metadata": {},
   "outputs": [],
   "source": [
    "\n",
    "df1.to_csv('../datasets/user_item.csv',index=False)"
   ]
  },
  {
   "cell_type": "code",
   "execution_count": 49,
   "metadata": {},
   "outputs": [],
   "source": [
    "df.to_csv('../datasets/user_item2.csv',index=False)"
   ]
  },
  {
   "cell_type": "markdown",
   "metadata": {},
   "source": [
    "USER REVIEWS"
   ]
  },
  {
   "cell_type": "markdown",
   "metadata": {},
   "source": [
    "se carga el archivo user reviews"
   ]
  },
  {
   "cell_type": "markdown",
   "metadata": {},
   "source": [
    "se realiza tratamiento para desanidar la columna reviews"
   ]
  },
  {
   "cell_type": "code",
   "execution_count": 3,
   "metadata": {},
   "outputs": [],
   "source": [
    "user_reviews = \"../datasets/user_reviews.json.gz\"\n",
    "filas=[]\n",
    "with gzip.open(user_reviews, 'rt', encoding='utf-8') as archivo:\n",
    "    for line in archivo.readlines():\n",
    "        filas.append(ast.literal_eval(line))\n",
    "\n",
    "rev = pd.DataFrame(filas)"
   ]
  },
  {
   "cell_type": "code",
   "execution_count": 4,
   "metadata": {},
   "outputs": [
    {
     "name": "stdout",
     "output_type": "stream",
     "text": [
      "<class 'pandas.core.frame.DataFrame'>\n",
      "RangeIndex: 25799 entries, 0 to 25798\n",
      "Data columns (total 3 columns):\n",
      " #   Column    Non-Null Count  Dtype \n",
      "---  ------    --------------  ----- \n",
      " 0   user_id   25799 non-null  object\n",
      " 1   user_url  25799 non-null  object\n",
      " 2   reviews   25799 non-null  object\n",
      "dtypes: object(3)\n",
      "memory usage: 604.8+ KB\n"
     ]
    }
   ],
   "source": [
    "rev.info()"
   ]
  },
  {
   "cell_type": "code",
   "execution_count": 5,
   "metadata": {},
   "outputs": [
    {
     "data": {
      "text/html": [
       "<div>\n",
       "<style scoped>\n",
       "    .dataframe tbody tr th:only-of-type {\n",
       "        vertical-align: middle;\n",
       "    }\n",
       "\n",
       "    .dataframe tbody tr th {\n",
       "        vertical-align: top;\n",
       "    }\n",
       "\n",
       "    .dataframe thead th {\n",
       "        text-align: right;\n",
       "    }\n",
       "</style>\n",
       "<table border=\"1\" class=\"dataframe\">\n",
       "  <thead>\n",
       "    <tr style=\"text-align: right;\">\n",
       "      <th></th>\n",
       "      <th>user_id</th>\n",
       "      <th>user_url</th>\n",
       "      <th>reviews</th>\n",
       "    </tr>\n",
       "  </thead>\n",
       "  <tbody>\n",
       "    <tr>\n",
       "      <th>0</th>\n",
       "      <td>76561197970982479</td>\n",
       "      <td>http://steamcommunity.com/profiles/76561197970...</td>\n",
       "      <td>[{'funny': '', 'posted': 'Posted November 5, 2...</td>\n",
       "    </tr>\n",
       "    <tr>\n",
       "      <th>1</th>\n",
       "      <td>js41637</td>\n",
       "      <td>http://steamcommunity.com/id/js41637</td>\n",
       "      <td>[{'funny': '', 'posted': 'Posted June 24, 2014...</td>\n",
       "    </tr>\n",
       "    <tr>\n",
       "      <th>2</th>\n",
       "      <td>evcentric</td>\n",
       "      <td>http://steamcommunity.com/id/evcentric</td>\n",
       "      <td>[{'funny': '', 'posted': 'Posted February 3.',...</td>\n",
       "    </tr>\n",
       "    <tr>\n",
       "      <th>3</th>\n",
       "      <td>doctr</td>\n",
       "      <td>http://steamcommunity.com/id/doctr</td>\n",
       "      <td>[{'funny': '', 'posted': 'Posted October 14, 2...</td>\n",
       "    </tr>\n",
       "    <tr>\n",
       "      <th>4</th>\n",
       "      <td>maplemage</td>\n",
       "      <td>http://steamcommunity.com/id/maplemage</td>\n",
       "      <td>[{'funny': '3 people found this review funny',...</td>\n",
       "    </tr>\n",
       "  </tbody>\n",
       "</table>\n",
       "</div>"
      ],
      "text/plain": [
       "             user_id                                           user_url  \\\n",
       "0  76561197970982479  http://steamcommunity.com/profiles/76561197970...   \n",
       "1            js41637               http://steamcommunity.com/id/js41637   \n",
       "2          evcentric             http://steamcommunity.com/id/evcentric   \n",
       "3              doctr                 http://steamcommunity.com/id/doctr   \n",
       "4          maplemage             http://steamcommunity.com/id/maplemage   \n",
       "\n",
       "                                             reviews  \n",
       "0  [{'funny': '', 'posted': 'Posted November 5, 2...  \n",
       "1  [{'funny': '', 'posted': 'Posted June 24, 2014...  \n",
       "2  [{'funny': '', 'posted': 'Posted February 3.',...  \n",
       "3  [{'funny': '', 'posted': 'Posted October 14, 2...  \n",
       "4  [{'funny': '3 people found this review funny',...  "
      ]
     },
     "execution_count": 5,
     "metadata": {},
     "output_type": "execute_result"
    }
   ],
   "source": [
    "rev.head()"
   ]
  },
  {
   "cell_type": "markdown",
   "metadata": {},
   "source": [
    "Se debe desanidar el campo reviews ya que contiene diccionario anidado con más datos de reconendaciones de usuarios. se usa las funciones explode y concatenate"
   ]
  },
  {
   "cell_type": "code",
   "execution_count": 6,
   "metadata": {},
   "outputs": [],
   "source": [
    "rev2 = rev.explode('reviews') # se genera un diccionario por cada diccionario en la lista y se concantena\n",
    "\n",
    "rev2 = pd.concat([rev2.drop(['reviews'],axis=1),rev2['reviews'].apply(pd.Series)],axis=1)  "
   ]
  },
  {
   "cell_type": "markdown",
   "metadata": {},
   "source": [
    "se elimina columnas inncesarias para el análisis"
   ]
  },
  {
   "cell_type": "code",
   "execution_count": 7,
   "metadata": {},
   "outputs": [],
   "source": [
    "rev2.drop(columns=['user_url','funny','helpful','last_edited',0],inplace=True)"
   ]
  },
  {
   "cell_type": "code",
   "execution_count": 8,
   "metadata": {},
   "outputs": [
    {
     "data": {
      "text/html": [
       "<div>\n",
       "<style scoped>\n",
       "    .dataframe tbody tr th:only-of-type {\n",
       "        vertical-align: middle;\n",
       "    }\n",
       "\n",
       "    .dataframe tbody tr th {\n",
       "        vertical-align: top;\n",
       "    }\n",
       "\n",
       "    .dataframe thead th {\n",
       "        text-align: right;\n",
       "    }\n",
       "</style>\n",
       "<table border=\"1\" class=\"dataframe\">\n",
       "  <thead>\n",
       "    <tr style=\"text-align: right;\">\n",
       "      <th></th>\n",
       "      <th>user_id</th>\n",
       "      <th>posted</th>\n",
       "      <th>item_id</th>\n",
       "      <th>recommend</th>\n",
       "      <th>review</th>\n",
       "    </tr>\n",
       "  </thead>\n",
       "  <tbody>\n",
       "    <tr>\n",
       "      <th>0</th>\n",
       "      <td>76561197970982479</td>\n",
       "      <td>Posted November 5, 2011.</td>\n",
       "      <td>1250</td>\n",
       "      <td>True</td>\n",
       "      <td>Simple yet with great replayability. In my opi...</td>\n",
       "    </tr>\n",
       "    <tr>\n",
       "      <th>0</th>\n",
       "      <td>76561197970982479</td>\n",
       "      <td>Posted July 15, 2011.</td>\n",
       "      <td>22200</td>\n",
       "      <td>True</td>\n",
       "      <td>It's unique and worth a playthrough.</td>\n",
       "    </tr>\n",
       "    <tr>\n",
       "      <th>0</th>\n",
       "      <td>76561197970982479</td>\n",
       "      <td>Posted April 21, 2011.</td>\n",
       "      <td>43110</td>\n",
       "      <td>True</td>\n",
       "      <td>Great atmosphere. The gunplay can be a bit chu...</td>\n",
       "    </tr>\n",
       "    <tr>\n",
       "      <th>1</th>\n",
       "      <td>js41637</td>\n",
       "      <td>Posted June 24, 2014.</td>\n",
       "      <td>251610</td>\n",
       "      <td>True</td>\n",
       "      <td>I know what you think when you see this title ...</td>\n",
       "    </tr>\n",
       "    <tr>\n",
       "      <th>1</th>\n",
       "      <td>js41637</td>\n",
       "      <td>Posted September 8, 2013.</td>\n",
       "      <td>227300</td>\n",
       "      <td>True</td>\n",
       "      <td>For a simple (it's actually not all that simpl...</td>\n",
       "    </tr>\n",
       "  </tbody>\n",
       "</table>\n",
       "</div>"
      ],
      "text/plain": [
       "             user_id                     posted item_id recommend  \\\n",
       "0  76561197970982479   Posted November 5, 2011.    1250      True   \n",
       "0  76561197970982479      Posted July 15, 2011.   22200      True   \n",
       "0  76561197970982479     Posted April 21, 2011.   43110      True   \n",
       "1            js41637      Posted June 24, 2014.  251610      True   \n",
       "1            js41637  Posted September 8, 2013.  227300      True   \n",
       "\n",
       "                                              review  \n",
       "0  Simple yet with great replayability. In my opi...  \n",
       "0               It's unique and worth a playthrough.  \n",
       "0  Great atmosphere. The gunplay can be a bit chu...  \n",
       "1  I know what you think when you see this title ...  \n",
       "1  For a simple (it's actually not all that simpl...  "
      ]
     },
     "execution_count": 8,
     "metadata": {},
     "output_type": "execute_result"
    }
   ],
   "source": [
    "rev2.head()"
   ]
  },
  {
   "cell_type": "markdown",
   "metadata": {},
   "source": [
    "Las funciones están relacionadas con la biblioteca NLTK (Natural Language Toolkit), específicamente con el análisis de sentimientos utilizando el paquete VADER (Valence Aware Dictionary and sEntiment Reasoner)"
   ]
  },
  {
   "cell_type": "markdown",
   "metadata": {},
   "source": [
    "se define la funcion sentiment"
   ]
  },
  {
   "cell_type": "code",
   "execution_count": 10,
   "metadata": {},
   "outputs": [
    {
     "name": "stderr",
     "output_type": "stream",
     "text": [
      "[nltk_data] Downloading package vader_lexicon to\n",
      "[nltk_data]     C:\\Users\\jupai\\AppData\\Roaming\\nltk_data...\n",
      "[nltk_data]   Package vader_lexicon is already up-to-date!\n"
     ]
    }
   ],
   "source": [
    "nltk.download('vader_lexicon')\n",
    "model = SentimentIntensityAnalyzer()\n",
    "\n",
    "\n",
    "def sentiment(review):\n",
    "    # Obtener el puntaje de sentimiento usando SentimentIntensityAnalyzer\n",
    "    clasif = model.polarity_scores(review)\n",
    "    \n",
    "    # Clasifico el sentimiento\n",
    "    \n",
    "    if review and not pd.isnull(review):\n",
    "        if clasif['compound'] >= 0.5:\n",
    "            return 2  # Sentimiento positivo\n",
    "        elif clasif['compound'] <= -0.5:\n",
    "            return 0  # Sentimiento negativo\n",
    "        else:\n",
    "            return 1  # Sentimiento neutral\n",
    "    else:\n",
    "        return 1"
   ]
  },
  {
   "cell_type": "code",
   "execution_count": 11,
   "metadata": {},
   "outputs": [
    {
     "name": "stderr",
     "output_type": "stream",
     "text": [
      "C:\\Users\\jupai\\AppData\\Local\\Temp\\ipykernel_12524\\2213859600.py:1: FutureWarning: A value is trying to be set on a copy of a DataFrame or Series through chained assignment using an inplace method.\n",
      "The behavior will change in pandas 3.0. This inplace method will never work because the intermediate object on which we are setting values always behaves as a copy.\n",
      "\n",
      "For example, when doing 'df[col].method(value, inplace=True)', try using 'df.method({col: value}, inplace=True)' or df[col] = df[col].method(value) instead, to perform the operation inplace on the original object.\n",
      "\n",
      "\n",
      "  rev2['review'].fillna('',inplace=True) # Remplazo los nulos con un string vacio\n"
     ]
    }
   ],
   "source": [
    "rev2['review'].fillna('',inplace=True) # Remplazo los nulos con un string vacio\n"
   ]
  },
  {
   "cell_type": "code",
   "execution_count": 12,
   "metadata": {},
   "outputs": [],
   "source": [
    "rev2['sentiment_analysis']  = rev2['review'].apply(sentiment)\n",
    "rev2.drop(columns='review',inplace=True) # Aplica la funcion que determina el sentimiento"
   ]
  },
  {
   "cell_type": "code",
   "execution_count": 13,
   "metadata": {},
   "outputs": [
    {
     "data": {
      "text/plain": [
       "<Axes: xlabel='sentiment_analysis', ylabel='Count'>"
      ]
     },
     "execution_count": 13,
     "metadata": {},
     "output_type": "execute_result"
    },
    {
     "data": {
      "image/png": "[encoded data removed]",
      "text/plain": [
       "<Figure size 640x480 with 1 Axes>"
      ]
     },
     "metadata": {},
     "output_type": "display_data"
    }
   ],
   "source": [
    "sns.histplot(data=rev2,x='sentiment_analysis')"
   ]
  },
  {
   "cell_type": "code",
   "execution_count": 14,
   "metadata": {},
   "outputs": [
    {
     "data": {
      "text/plain": [
       "user_id                0\n",
       "posted                28\n",
       "item_id               28\n",
       "recommend             28\n",
       "sentiment_analysis     0\n",
       "dtype: int64"
      ]
     },
     "execution_count": 14,
     "metadata": {},
     "output_type": "execute_result"
    }
   ],
   "source": [
    "rev2.isnull().sum()"
   ]
  },
  {
   "cell_type": "code",
   "execution_count": 15,
   "metadata": {},
   "outputs": [],
   "source": [
    "rev2.dropna(inplace=True)"
   ]
  },
  {
   "cell_type": "code",
   "execution_count": 16,
   "metadata": {},
   "outputs": [
    {
     "name": "stdout",
     "output_type": "stream",
     "text": [
      "<class 'pandas.core.frame.DataFrame'>\n",
      "Index: 59305 entries, 0 to 25798\n",
      "Data columns (total 5 columns):\n",
      " #   Column              Non-Null Count  Dtype \n",
      "---  ------              --------------  ----- \n",
      " 0   user_id             59305 non-null  object\n",
      " 1   posted              59305 non-null  object\n",
      " 2   item_id             59305 non-null  object\n",
      " 3   recommend           59305 non-null  object\n",
      " 4   sentiment_analysis  59305 non-null  int64 \n",
      "dtypes: int64(1), object(4)\n",
      "memory usage: 2.7+ MB\n"
     ]
    }
   ],
   "source": [
    "rev2.info()"
   ]
  },
  {
   "cell_type": "code",
   "execution_count": 51,
   "metadata": {},
   "outputs": [],
   "source": [
    "rev3=rev2.sample(2000)"
   ]
  },
  {
   "cell_type": "code",
   "execution_count": 53,
   "metadata": {},
   "outputs": [],
   "source": [
    "rev2.to_csv('../datasets/user_reviews2.csv',index=False)"
   ]
  },
  {
   "cell_type": "code",
   "execution_count": 52,
   "metadata": {},
   "outputs": [],
   "source": [
    "rev3.to_csv('../datasets/user_reviews.csv',index=False)"
   ]
  },
  {
   "cell_type": "code",
   "execution_count": null,
   "metadata": {},
   "outputs": [],
   "source": []
  }
 ],
 "metadata": {
  "kernelspec": {
   "display_name": "Python 3",
   "language": "python",
   "name": "python3"
  },
  "language_info": {
   "codemirror_mode": {
    "name": "ipython",
    "version": 3
   },
   "file_extension": ".py",
   "mimetype": "text/x-python",
   "name": "python",
   "nbconvert_exporter": "python",
   "pygments_lexer": "ipython3",
   "version": "3.12.3"
  }
 },
 "nbformat": 4,
 "nbformat_minor": 2
}
