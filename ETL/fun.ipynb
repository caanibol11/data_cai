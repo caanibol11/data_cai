{
 "cells": [
  {
   "cell_type": "markdown",
   "metadata": {},
   "source": [
    "se importa la librería pandas\n",
    "se leen los archivos steam games y user item"
   ]
  },
  {
   "cell_type": "code",
   "execution_count": 1,
   "metadata": {},
   "outputs": [],
   "source": [
    "import pandas as pd\n",
    "df1= pd.read_csv('../datasets/steam_games.csv')\n",
    "df2=pd.read_csv('../datasets/user_item.csv')"
   ]
  },
  {
   "cell_type": "code",
   "execution_count": 2,
   "metadata": {},
   "outputs": [
    {
     "data": {
      "text/html": [
       "<div>\n",
       "<style scoped>\n",
       "    .dataframe tbody tr th:only-of-type {\n",
       "        vertical-align: middle;\n",
       "    }\n",
       "\n",
       "    .dataframe tbody tr th {\n",
       "        vertical-align: top;\n",
       "    }\n",
       "\n",
       "    .dataframe thead th {\n",
       "        text-align: right;\n",
       "    }\n",
       "</style>\n",
       "<table border=\"1\" class=\"dataframe\">\n",
       "  <thead>\n",
       "    <tr style=\"text-align: right;\">\n",
       "      <th></th>\n",
       "      <th>genres</th>\n",
       "      <th>app_name</th>\n",
       "      <th>id</th>\n",
       "      <th>year</th>\n",
       "    </tr>\n",
       "  </thead>\n",
       "  <tbody>\n",
       "    <tr>\n",
       "      <th>0</th>\n",
       "      <td>Simulation</td>\n",
       "      <td>Train Simulator: BR Class 423 ‘4VEP’ EMU Add-On</td>\n",
       "      <td>65256</td>\n",
       "      <td>2012.0</td>\n",
       "    </tr>\n",
       "    <tr>\n",
       "      <th>1</th>\n",
       "      <td>Indie</td>\n",
       "      <td>BattleRush</td>\n",
       "      <td>734580</td>\n",
       "      <td>2017.0</td>\n",
       "    </tr>\n",
       "    <tr>\n",
       "      <th>2</th>\n",
       "      <td>Strategy</td>\n",
       "      <td>Reverse Crawl</td>\n",
       "      <td>400660</td>\n",
       "      <td>2015.0</td>\n",
       "    </tr>\n",
       "    <tr>\n",
       "      <th>3</th>\n",
       "      <td>Adventure</td>\n",
       "      <td>Countless Rooms of Death</td>\n",
       "      <td>341380</td>\n",
       "      <td>2014.0</td>\n",
       "    </tr>\n",
       "    <tr>\n",
       "      <th>4</th>\n",
       "      <td>Indie</td>\n",
       "      <td>Tomato Jones 2</td>\n",
       "      <td>625940</td>\n",
       "      <td>2017.0</td>\n",
       "    </tr>\n",
       "  </tbody>\n",
       "</table>\n",
       "</div>"
      ],
      "text/plain": [
       "       genres                                         app_name      id    year\n",
       "0  Simulation  Train Simulator: BR Class 423 ‘4VEP’ EMU Add-On   65256  2012.0\n",
       "1       Indie                                       BattleRush  734580  2017.0\n",
       "2    Strategy                                    Reverse Crawl  400660  2015.0\n",
       "3   Adventure                         Countless Rooms of Death  341380  2014.0\n",
       "4       Indie                                   Tomato Jones 2  625940  2017.0"
      ]
     },
     "execution_count": 2,
     "metadata": {},
     "output_type": "execute_result"
    }
   ],
   "source": [
    "df1.head()"
   ]
  },
  {
   "cell_type": "code",
   "execution_count": 3,
   "metadata": {},
   "outputs": [
    {
     "data": {
      "text/html": [
       "<div>\n",
       "<style scoped>\n",
       "    .dataframe tbody tr th:only-of-type {\n",
       "        vertical-align: middle;\n",
       "    }\n",
       "\n",
       "    .dataframe tbody tr th {\n",
       "        vertical-align: top;\n",
       "    }\n",
       "\n",
       "    .dataframe thead th {\n",
       "        text-align: right;\n",
       "    }\n",
       "</style>\n",
       "<table border=\"1\" class=\"dataframe\">\n",
       "  <thead>\n",
       "    <tr style=\"text-align: right;\">\n",
       "      <th></th>\n",
       "      <th>user_id</th>\n",
       "      <th>items_count</th>\n",
       "      <th>steam_id</th>\n",
       "      <th>item_id</th>\n",
       "      <th>item_name</th>\n",
       "      <th>playtime_forever</th>\n",
       "    </tr>\n",
       "  </thead>\n",
       "  <tbody>\n",
       "    <tr>\n",
       "      <th>0</th>\n",
       "      <td>HailOfLead</td>\n",
       "      <td>88</td>\n",
       "      <td>76561198076282242</td>\n",
       "      <td>2430</td>\n",
       "      <td>The Ship Tutorial</td>\n",
       "      <td>0.0</td>\n",
       "    </tr>\n",
       "    <tr>\n",
       "      <th>1</th>\n",
       "      <td>Monkers</td>\n",
       "      <td>89</td>\n",
       "      <td>76561197960511174</td>\n",
       "      <td>7940</td>\n",
       "      <td>Call of Duty 4: Modern Warfare</td>\n",
       "      <td>132.0</td>\n",
       "    </tr>\n",
       "    <tr>\n",
       "      <th>2</th>\n",
       "      <td>76561198065166613</td>\n",
       "      <td>42</td>\n",
       "      <td>76561198065166613</td>\n",
       "      <td>4000</td>\n",
       "      <td>Garry's Mod</td>\n",
       "      <td>5405.0</td>\n",
       "    </tr>\n",
       "    <tr>\n",
       "      <th>3</th>\n",
       "      <td>_ndsa</td>\n",
       "      <td>777</td>\n",
       "      <td>76561197967003986</td>\n",
       "      <td>236830</td>\n",
       "      <td>Red Orchestra 2: Heroes of Stalingrad - Single...</td>\n",
       "      <td>0.0</td>\n",
       "    </tr>\n",
       "    <tr>\n",
       "      <th>4</th>\n",
       "      <td>pavelkadots</td>\n",
       "      <td>564</td>\n",
       "      <td>76561198045300427</td>\n",
       "      <td>26900</td>\n",
       "      <td>Crayon Physics Deluxe</td>\n",
       "      <td>11.0</td>\n",
       "    </tr>\n",
       "  </tbody>\n",
       "</table>\n",
       "</div>"
      ],
      "text/plain": [
       "             user_id  items_count           steam_id  item_id  \\\n",
       "0         HailOfLead           88  76561198076282242     2430   \n",
       "1            Monkers           89  76561197960511174     7940   \n",
       "2  76561198065166613           42  76561198065166613     4000   \n",
       "3              _ndsa          777  76561197967003986   236830   \n",
       "4        pavelkadots          564  76561198045300427    26900   \n",
       "\n",
       "                                           item_name  playtime_forever  \n",
       "0                                  The Ship Tutorial               0.0  \n",
       "1                     Call of Duty 4: Modern Warfare             132.0  \n",
       "2                                        Garry's Mod            5405.0  \n",
       "3  Red Orchestra 2: Heroes of Stalingrad - Single...               0.0  \n",
       "4                              Crayon Physics Deluxe              11.0  "
      ]
     },
     "execution_count": 3,
     "metadata": {},
     "output_type": "execute_result"
    }
   ],
   "source": [
    "df2.head()"
   ]
  },
  {
   "cell_type": "markdown",
   "metadata": {},
   "source": [
    "se cambia de nombre item id para poder concantenar los dataframe"
   ]
  },
  {
   "cell_type": "code",
   "execution_count": 4,
   "metadata": {},
   "outputs": [],
   "source": [
    "df2.rename(columns={'item_id': 'id'}, inplace=True)"
   ]
  },
  {
   "cell_type": "code",
   "execution_count": 5,
   "metadata": {},
   "outputs": [],
   "source": [
    "merged_df = pd.merge(df1, df2, on='id')"
   ]
  },
  {
   "cell_type": "markdown",
   "metadata": {},
   "source": [
    "dataframe concatenado para la función"
   ]
  },
  {
   "cell_type": "code",
   "execution_count": 6,
   "metadata": {},
   "outputs": [
    {
     "data": {
      "text/html": [
       "<div>\n",
       "<style scoped>\n",
       "    .dataframe tbody tr th:only-of-type {\n",
       "        vertical-align: middle;\n",
       "    }\n",
       "\n",
       "    .dataframe tbody tr th {\n",
       "        vertical-align: top;\n",
       "    }\n",
       "\n",
       "    .dataframe thead th {\n",
       "        text-align: right;\n",
       "    }\n",
       "</style>\n",
       "<table border=\"1\" class=\"dataframe\">\n",
       "  <thead>\n",
       "    <tr style=\"text-align: right;\">\n",
       "      <th></th>\n",
       "      <th>genres</th>\n",
       "      <th>app_name</th>\n",
       "      <th>id</th>\n",
       "      <th>year</th>\n",
       "      <th>user_id</th>\n",
       "      <th>items_count</th>\n",
       "      <th>steam_id</th>\n",
       "      <th>item_name</th>\n",
       "      <th>playtime_forever</th>\n",
       "    </tr>\n",
       "  </thead>\n",
       "  <tbody>\n",
       "    <tr>\n",
       "      <th>0</th>\n",
       "      <td>RPG</td>\n",
       "      <td>Robocraft</td>\n",
       "      <td>301520</td>\n",
       "      <td>2017.0</td>\n",
       "      <td>cazzabro</td>\n",
       "      <td>232</td>\n",
       "      <td>76561198042641284</td>\n",
       "      <td>Robocraft</td>\n",
       "      <td>26.0</td>\n",
       "    </tr>\n",
       "    <tr>\n",
       "      <th>1</th>\n",
       "      <td>RPG</td>\n",
       "      <td>Robocraft</td>\n",
       "      <td>301520</td>\n",
       "      <td>2017.0</td>\n",
       "      <td>doomkiller20911</td>\n",
       "      <td>51</td>\n",
       "      <td>76561198142843856</td>\n",
       "      <td>Robocraft</td>\n",
       "      <td>18.0</td>\n",
       "    </tr>\n",
       "    <tr>\n",
       "      <th>2</th>\n",
       "      <td>RPG</td>\n",
       "      <td>Robocraft</td>\n",
       "      <td>301520</td>\n",
       "      <td>2017.0</td>\n",
       "      <td>potisrest0</td>\n",
       "      <td>94</td>\n",
       "      <td>76561198071919962</td>\n",
       "      <td>Robocraft</td>\n",
       "      <td>3550.0</td>\n",
       "    </tr>\n",
       "    <tr>\n",
       "      <th>3</th>\n",
       "      <td>RPG</td>\n",
       "      <td>Robocraft</td>\n",
       "      <td>301520</td>\n",
       "      <td>2017.0</td>\n",
       "      <td>HoneyBeeGames</td>\n",
       "      <td>98</td>\n",
       "      <td>76561198067187516</td>\n",
       "      <td>Robocraft</td>\n",
       "      <td>1274.0</td>\n",
       "    </tr>\n",
       "    <tr>\n",
       "      <th>4</th>\n",
       "      <td>RPG</td>\n",
       "      <td>Robocraft</td>\n",
       "      <td>301520</td>\n",
       "      <td>2017.0</td>\n",
       "      <td>kinghamc</td>\n",
       "      <td>74</td>\n",
       "      <td>76561198018017578</td>\n",
       "      <td>Robocraft</td>\n",
       "      <td>0.0</td>\n",
       "    </tr>\n",
       "  </tbody>\n",
       "</table>\n",
       "</div>"
      ],
      "text/plain": [
       "  genres   app_name      id    year          user_id  items_count  \\\n",
       "0    RPG  Robocraft  301520  2017.0         cazzabro          232   \n",
       "1    RPG  Robocraft  301520  2017.0  doomkiller20911           51   \n",
       "2    RPG  Robocraft  301520  2017.0       potisrest0           94   \n",
       "3    RPG  Robocraft  301520  2017.0    HoneyBeeGames           98   \n",
       "4    RPG  Robocraft  301520  2017.0         kinghamc           74   \n",
       "\n",
       "            steam_id  item_name  playtime_forever  \n",
       "0  76561198042641284  Robocraft              26.0  \n",
       "1  76561198142843856  Robocraft              18.0  \n",
       "2  76561198071919962  Robocraft            3550.0  \n",
       "3  76561198067187516  Robocraft            1274.0  \n",
       "4  76561198018017578  Robocraft               0.0  "
      ]
     },
     "execution_count": 6,
     "metadata": {},
     "output_type": "execute_result"
    }
   ],
   "source": [
    "merged_df.head()"
   ]
  },
  {
   "cell_type": "markdown",
   "metadata": {},
   "source": [
    "se eliminan columnas innecesarias"
   ]
  },
  {
   "cell_type": "code",
   "execution_count": 7,
   "metadata": {},
   "outputs": [],
   "source": [
    "merged_df.drop(columns=['app_name','user_id','items_count','steam_id','item_name'],inplace=True)"
   ]
  },
  {
   "cell_type": "code",
   "execution_count": 8,
   "metadata": {},
   "outputs": [],
   "source": [
    "merged_df.head()\n",
    "merged_df.drop(columns=['id'],inplace=True)"
   ]
  },
  {
   "cell_type": "markdown",
   "metadata": {},
   "source": [
    "se verifican campos nulos y se elimina"
   ]
  },
  {
   "cell_type": "code",
   "execution_count": 9,
   "metadata": {},
   "outputs": [
    {
     "data": {
      "text/plain": [
       "genres              0\n",
       "year                0\n",
       "playtime_forever    0\n",
       "dtype: int64"
      ]
     },
     "execution_count": 9,
     "metadata": {},
     "output_type": "execute_result"
    }
   ],
   "source": [
    "merged_df.isnull().sum()# Cuanto la cantidad de nulos "
   ]
  },
  {
   "cell_type": "markdown",
   "metadata": {},
   "source": [
    "se elimina nulos en columna year o año"
   ]
  },
  {
   "cell_type": "code",
   "execution_count": 10,
   "metadata": {},
   "outputs": [],
   "source": [
    "merged_df = merged_df.dropna(subset=['year'])"
   ]
  },
  {
   "cell_type": "code",
   "execution_count": 11,
   "metadata": {},
   "outputs": [
    {
     "name": "stdout",
     "output_type": "stream",
     "text": [
      "<class 'pandas.core.frame.DataFrame'>\n",
      "RangeIndex: 126 entries, 0 to 125\n",
      "Data columns (total 3 columns):\n",
      " #   Column            Non-Null Count  Dtype  \n",
      "---  ------            --------------  -----  \n",
      " 0   genres            126 non-null    object \n",
      " 1   year              126 non-null    float64\n",
      " 2   playtime_forever  126 non-null    float64\n",
      "dtypes: float64(2), object(1)\n",
      "memory usage: 3.1+ KB\n"
     ]
    }
   ],
   "source": [
    "merged_df.info()"
   ]
  },
  {
   "cell_type": "code",
   "execution_count": 12,
   "metadata": {},
   "outputs": [
    {
     "data": {
      "text/html": [
       "<div>\n",
       "<style scoped>\n",
       "    .dataframe tbody tr th:only-of-type {\n",
       "        vertical-align: middle;\n",
       "    }\n",
       "\n",
       "    .dataframe tbody tr th {\n",
       "        vertical-align: top;\n",
       "    }\n",
       "\n",
       "    .dataframe thead th {\n",
       "        text-align: right;\n",
       "    }\n",
       "</style>\n",
       "<table border=\"1\" class=\"dataframe\">\n",
       "  <thead>\n",
       "    <tr style=\"text-align: right;\">\n",
       "      <th></th>\n",
       "      <th>genres</th>\n",
       "      <th>year</th>\n",
       "      <th>playtime_forever</th>\n",
       "    </tr>\n",
       "  </thead>\n",
       "  <tbody>\n",
       "    <tr>\n",
       "      <th>0</th>\n",
       "      <td>RPG</td>\n",
       "      <td>2017.0</td>\n",
       "      <td>26.0</td>\n",
       "    </tr>\n",
       "    <tr>\n",
       "      <th>1</th>\n",
       "      <td>RPG</td>\n",
       "      <td>2017.0</td>\n",
       "      <td>18.0</td>\n",
       "    </tr>\n",
       "    <tr>\n",
       "      <th>2</th>\n",
       "      <td>RPG</td>\n",
       "      <td>2017.0</td>\n",
       "      <td>3550.0</td>\n",
       "    </tr>\n",
       "    <tr>\n",
       "      <th>3</th>\n",
       "      <td>RPG</td>\n",
       "      <td>2017.0</td>\n",
       "      <td>1274.0</td>\n",
       "    </tr>\n",
       "    <tr>\n",
       "      <th>4</th>\n",
       "      <td>RPG</td>\n",
       "      <td>2017.0</td>\n",
       "      <td>0.0</td>\n",
       "    </tr>\n",
       "  </tbody>\n",
       "</table>\n",
       "</div>"
      ],
      "text/plain": [
       "  genres    year  playtime_forever\n",
       "0    RPG  2017.0              26.0\n",
       "1    RPG  2017.0              18.0\n",
       "2    RPG  2017.0            3550.0\n",
       "3    RPG  2017.0            1274.0\n",
       "4    RPG  2017.0               0.0"
      ]
     },
     "execution_count": 12,
     "metadata": {},
     "output_type": "execute_result"
    }
   ],
   "source": [
    "merged_df.head()"
   ]
  },
  {
   "cell_type": "markdown",
   "metadata": {},
   "source": [
    "se crea ka función uno en formato csv"
   ]
  },
  {
   "cell_type": "code",
   "execution_count": 13,
   "metadata": {},
   "outputs": [],
   "source": [
    "merged_df.to_csv('../datasets/funcion_uno.csv',index=False)"
   ]
  },
  {
   "cell_type": "code",
   "execution_count": 15,
   "metadata": {},
   "outputs": [
    {
     "data": {
      "text/html": [
       "<div>\n",
       "<style scoped>\n",
       "    .dataframe tbody tr th:only-of-type {\n",
       "        vertical-align: middle;\n",
       "    }\n",
       "\n",
       "    .dataframe tbody tr th {\n",
       "        vertical-align: top;\n",
       "    }\n",
       "\n",
       "    .dataframe thead th {\n",
       "        text-align: right;\n",
       "    }\n",
       "</style>\n",
       "<table border=\"1\" class=\"dataframe\">\n",
       "  <thead>\n",
       "    <tr style=\"text-align: right;\">\n",
       "      <th></th>\n",
       "      <th>genres</th>\n",
       "      <th>year</th>\n",
       "      <th>playtime_forever</th>\n",
       "    </tr>\n",
       "  </thead>\n",
       "  <tbody>\n",
       "    <tr>\n",
       "      <th>0</th>\n",
       "      <td>RPG</td>\n",
       "      <td>2017.0</td>\n",
       "      <td>26.0</td>\n",
       "    </tr>\n",
       "    <tr>\n",
       "      <th>1</th>\n",
       "      <td>RPG</td>\n",
       "      <td>2017.0</td>\n",
       "      <td>18.0</td>\n",
       "    </tr>\n",
       "    <tr>\n",
       "      <th>2</th>\n",
       "      <td>RPG</td>\n",
       "      <td>2017.0</td>\n",
       "      <td>3550.0</td>\n",
       "    </tr>\n",
       "    <tr>\n",
       "      <th>3</th>\n",
       "      <td>RPG</td>\n",
       "      <td>2017.0</td>\n",
       "      <td>1274.0</td>\n",
       "    </tr>\n",
       "    <tr>\n",
       "      <th>4</th>\n",
       "      <td>RPG</td>\n",
       "      <td>2017.0</td>\n",
       "      <td>0.0</td>\n",
       "    </tr>\n",
       "  </tbody>\n",
       "</table>\n",
       "</div>"
      ],
      "text/plain": [
       "  genres    year  playtime_forever\n",
       "0    RPG  2017.0              26.0\n",
       "1    RPG  2017.0              18.0\n",
       "2    RPG  2017.0            3550.0\n",
       "3    RPG  2017.0            1274.0\n",
       "4    RPG  2017.0               0.0"
      ]
     },
     "execution_count": 15,
     "metadata": {},
     "output_type": "execute_result"
    }
   ],
   "source": [
    "df = pd.read_csv('../datasets/funcion_uno.csv')\n",
    "df.head()"
   ]
  },
  {
   "cell_type": "markdown",
   "metadata": {},
   "source": [
    "se define la función para calcular horas jugadas en un año"
   ]
  },
  {
   "cell_type": "code",
   "execution_count": 16,
   "metadata": {},
   "outputs": [
    {
     "name": "stdout",
     "output_type": "stream",
     "text": [
      "{'Año de lanzamiento con más horas jugadas para Género Action': 2004.0}\n"
     ]
    }
   ],
   "source": [
    "\n",
    "\n",
    "def PlayTimeGenre(genero: str):\n",
    "    # se carga los datos \n",
    "    df = pd.read_csv('../datasets/funcion_uno.csv')\n",
    "\n",
    "    # se filtra el DataFrame por género\n",
    "    df_genre = df[df['genres'] == genero]\n",
    "\n",
    "    # se agrupa  por año de lanzamiento y se  calcula la suma de las horas jugadas para cada año\n",
    "    horas_anio = df_genre.groupby('year')['playtime_forever'].sum()\n",
    "\n",
    "    # se encuentra  el año con la suma máxima de horas jugadas\n",
    "    max_year = horas_anio.idxmax()\n",
    "\n",
    "    \n",
    "    result = {\"Año de lanzamiento con más horas jugadas para Género \" + genero: max_year}\n",
    "    return result\n",
    "\n",
    "#ejemplo\n",
    "resultado = PlayTimeGenre(\"Action\")\n",
    "print(resultado)\n"
   ]
  },
  {
   "cell_type": "code",
   "execution_count": null,
   "metadata": {},
   "outputs": [],
   "source": []
  }
 ],
 "metadata": {
  "kernelspec": {
   "display_name": "Python 3",
   "language": "python",
   "name": "python3"
  },
  "language_info": {
   "codemirror_mode": {
    "name": "ipython",
    "version": 3
   },
   "file_extension": ".py",
   "mimetype": "text/x-python",
   "name": "python",
   "nbconvert_exporter": "python",
   "pygments_lexer": "ipython3",
   "version": "3.12.3"
  }
 },
 "nbformat": 4,
 "nbformat_minor": 2
}
