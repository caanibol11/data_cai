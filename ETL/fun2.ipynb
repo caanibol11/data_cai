{
 "cells": [
  {
   "cell_type": "markdown",
   "metadata": {},
   "source": [
    "Se importa la librería pandas\n",
    "Se leen los archivos de steam_games y user_item"
   ]
  },
  {
   "cell_type": "code",
   "execution_count": 3,
   "metadata": {},
   "outputs": [],
   "source": [
    "import pandas as pd\n",
    "df1= pd.read_csv('../datasets/steam_games.csv')\n",
    "df2=pd.read_csv('../datasets/user_item.csv')"
   ]
  },
  {
   "cell_type": "markdown",
   "metadata": {},
   "source": [
    "se realiza concatenación de los dataframes cargados "
   ]
  },
  {
   "cell_type": "code",
   "execution_count": 4,
   "metadata": {},
   "outputs": [],
   "source": [
    "df2.rename(columns={'item_id': 'id'}, inplace=True)"
   ]
  },
  {
   "cell_type": "code",
   "execution_count": 5,
   "metadata": {},
   "outputs": [],
   "source": [
    "merged_df = pd.merge(df1, df2, on='id')"
   ]
  },
  {
   "cell_type": "code",
   "execution_count": 6,
   "metadata": {},
   "outputs": [
    {
     "data": {
      "text/html": [
       "<div>\n",
       "<style scoped>\n",
       "    .dataframe tbody tr th:only-of-type {\n",
       "        vertical-align: middle;\n",
       "    }\n",
       "\n",
       "    .dataframe tbody tr th {\n",
       "        vertical-align: top;\n",
       "    }\n",
       "\n",
       "    .dataframe thead th {\n",
       "        text-align: right;\n",
       "    }\n",
       "</style>\n",
       "<table border=\"1\" class=\"dataframe\">\n",
       "  <thead>\n",
       "    <tr style=\"text-align: right;\">\n",
       "      <th></th>\n",
       "      <th>genres</th>\n",
       "      <th>app_name</th>\n",
       "      <th>id</th>\n",
       "      <th>year</th>\n",
       "      <th>user_id</th>\n",
       "      <th>items_count</th>\n",
       "      <th>steam_id</th>\n",
       "      <th>item_name</th>\n",
       "      <th>playtime_forever</th>\n",
       "    </tr>\n",
       "  </thead>\n",
       "  <tbody>\n",
       "    <tr>\n",
       "      <th>0</th>\n",
       "      <td>RPG</td>\n",
       "      <td>Robocraft</td>\n",
       "      <td>301520</td>\n",
       "      <td>2017.0</td>\n",
       "      <td>cazzabro</td>\n",
       "      <td>232</td>\n",
       "      <td>76561198042641284</td>\n",
       "      <td>Robocraft</td>\n",
       "      <td>26.0</td>\n",
       "    </tr>\n",
       "    <tr>\n",
       "      <th>1</th>\n",
       "      <td>RPG</td>\n",
       "      <td>Robocraft</td>\n",
       "      <td>301520</td>\n",
       "      <td>2017.0</td>\n",
       "      <td>doomkiller20911</td>\n",
       "      <td>51</td>\n",
       "      <td>76561198142843856</td>\n",
       "      <td>Robocraft</td>\n",
       "      <td>18.0</td>\n",
       "    </tr>\n",
       "    <tr>\n",
       "      <th>2</th>\n",
       "      <td>RPG</td>\n",
       "      <td>Robocraft</td>\n",
       "      <td>301520</td>\n",
       "      <td>2017.0</td>\n",
       "      <td>potisrest0</td>\n",
       "      <td>94</td>\n",
       "      <td>76561198071919962</td>\n",
       "      <td>Robocraft</td>\n",
       "      <td>3550.0</td>\n",
       "    </tr>\n",
       "    <tr>\n",
       "      <th>3</th>\n",
       "      <td>RPG</td>\n",
       "      <td>Robocraft</td>\n",
       "      <td>301520</td>\n",
       "      <td>2017.0</td>\n",
       "      <td>HoneyBeeGames</td>\n",
       "      <td>98</td>\n",
       "      <td>76561198067187516</td>\n",
       "      <td>Robocraft</td>\n",
       "      <td>1274.0</td>\n",
       "    </tr>\n",
       "    <tr>\n",
       "      <th>4</th>\n",
       "      <td>RPG</td>\n",
       "      <td>Robocraft</td>\n",
       "      <td>301520</td>\n",
       "      <td>2017.0</td>\n",
       "      <td>kinghamc</td>\n",
       "      <td>74</td>\n",
       "      <td>76561198018017578</td>\n",
       "      <td>Robocraft</td>\n",
       "      <td>0.0</td>\n",
       "    </tr>\n",
       "  </tbody>\n",
       "</table>\n",
       "</div>"
      ],
      "text/plain": [
       "  genres   app_name      id    year          user_id  items_count  \\\n",
       "0    RPG  Robocraft  301520  2017.0         cazzabro          232   \n",
       "1    RPG  Robocraft  301520  2017.0  doomkiller20911           51   \n",
       "2    RPG  Robocraft  301520  2017.0       potisrest0           94   \n",
       "3    RPG  Robocraft  301520  2017.0    HoneyBeeGames           98   \n",
       "4    RPG  Robocraft  301520  2017.0         kinghamc           74   \n",
       "\n",
       "            steam_id  item_name  playtime_forever  \n",
       "0  76561198042641284  Robocraft              26.0  \n",
       "1  76561198142843856  Robocraft              18.0  \n",
       "2  76561198071919962  Robocraft            3550.0  \n",
       "3  76561198067187516  Robocraft            1274.0  \n",
       "4  76561198018017578  Robocraft               0.0  "
      ]
     },
     "execution_count": 6,
     "metadata": {},
     "output_type": "execute_result"
    }
   ],
   "source": [
    "merged_df.head()"
   ]
  },
  {
   "cell_type": "markdown",
   "metadata": {},
   "source": [
    "se eliminan columnas innecesarias para la función requerida"
   ]
  },
  {
   "cell_type": "code",
   "execution_count": 7,
   "metadata": {},
   "outputs": [],
   "source": [
    "merged_df.drop(columns=['app_name','items_count','steam_id','item_name'],inplace=True)"
   ]
  },
  {
   "cell_type": "code",
   "execution_count": 8,
   "metadata": {},
   "outputs": [
    {
     "data": {
      "text/plain": [
       "genres              0\n",
       "id                  0\n",
       "year                0\n",
       "user_id             0\n",
       "playtime_forever    0\n",
       "dtype: int64"
      ]
     },
     "execution_count": 8,
     "metadata": {},
     "output_type": "execute_result"
    }
   ],
   "source": [
    "merged_df.isnull().sum()"
   ]
  },
  {
   "cell_type": "code",
   "execution_count": 7,
   "metadata": {},
   "outputs": [
    {
     "name": "stdout",
     "output_type": "stream",
     "text": [
      "<class 'pandas.core.frame.DataFrame'>\n",
      "RangeIndex: 126 entries, 0 to 125\n",
      "Data columns (total 5 columns):\n",
      " #   Column            Non-Null Count  Dtype  \n",
      "---  ------            --------------  -----  \n",
      " 0   genres            126 non-null    object \n",
      " 1   id                126 non-null    int64  \n",
      " 2   year              126 non-null    float64\n",
      " 3   user_id           126 non-null    object \n",
      " 4   playtime_forever  126 non-null    float64\n",
      "dtypes: float64(2), int64(1), object(2)\n",
      "memory usage: 5.1+ KB\n"
     ]
    }
   ],
   "source": [
    "merged_df.info()"
   ]
  },
  {
   "cell_type": "code",
   "execution_count": 9,
   "metadata": {},
   "outputs": [
    {
     "data": {
      "text/html": [
       "<div>\n",
       "<style scoped>\n",
       "    .dataframe tbody tr th:only-of-type {\n",
       "        vertical-align: middle;\n",
       "    }\n",
       "\n",
       "    .dataframe tbody tr th {\n",
       "        vertical-align: top;\n",
       "    }\n",
       "\n",
       "    .dataframe thead th {\n",
       "        text-align: right;\n",
       "    }\n",
       "</style>\n",
       "<table border=\"1\" class=\"dataframe\">\n",
       "  <thead>\n",
       "    <tr style=\"text-align: right;\">\n",
       "      <th></th>\n",
       "      <th>genres</th>\n",
       "      <th>id</th>\n",
       "      <th>year</th>\n",
       "      <th>user_id</th>\n",
       "      <th>playtime_forever</th>\n",
       "    </tr>\n",
       "  </thead>\n",
       "  <tbody>\n",
       "    <tr>\n",
       "      <th>0</th>\n",
       "      <td>RPG</td>\n",
       "      <td>301520</td>\n",
       "      <td>2017.0</td>\n",
       "      <td>cazzabro</td>\n",
       "      <td>26.0</td>\n",
       "    </tr>\n",
       "    <tr>\n",
       "      <th>1</th>\n",
       "      <td>RPG</td>\n",
       "      <td>301520</td>\n",
       "      <td>2017.0</td>\n",
       "      <td>doomkiller20911</td>\n",
       "      <td>18.0</td>\n",
       "    </tr>\n",
       "    <tr>\n",
       "      <th>2</th>\n",
       "      <td>RPG</td>\n",
       "      <td>301520</td>\n",
       "      <td>2017.0</td>\n",
       "      <td>potisrest0</td>\n",
       "      <td>3550.0</td>\n",
       "    </tr>\n",
       "    <tr>\n",
       "      <th>3</th>\n",
       "      <td>RPG</td>\n",
       "      <td>301520</td>\n",
       "      <td>2017.0</td>\n",
       "      <td>HoneyBeeGames</td>\n",
       "      <td>1274.0</td>\n",
       "    </tr>\n",
       "    <tr>\n",
       "      <th>4</th>\n",
       "      <td>RPG</td>\n",
       "      <td>301520</td>\n",
       "      <td>2017.0</td>\n",
       "      <td>kinghamc</td>\n",
       "      <td>0.0</td>\n",
       "    </tr>\n",
       "  </tbody>\n",
       "</table>\n",
       "</div>"
      ],
      "text/plain": [
       "  genres      id    year          user_id  playtime_forever\n",
       "0    RPG  301520  2017.0         cazzabro              26.0\n",
       "1    RPG  301520  2017.0  doomkiller20911              18.0\n",
       "2    RPG  301520  2017.0       potisrest0            3550.0\n",
       "3    RPG  301520  2017.0    HoneyBeeGames            1274.0\n",
       "4    RPG  301520  2017.0         kinghamc               0.0"
      ]
     },
     "execution_count": 9,
     "metadata": {},
     "output_type": "execute_result"
    }
   ],
   "source": [
    "merged_df.head()"
   ]
  },
  {
   "cell_type": "markdown",
   "metadata": {},
   "source": [
    "se crea el archivo funcion_dos en formato csv para ser usado ppr la función"
   ]
  },
  {
   "cell_type": "code",
   "execution_count": 10,
   "metadata": {},
   "outputs": [],
   "source": [
    "merged_df.to_csv('../datasets/funcion_dos.csv',index=False)"
   ]
  },
  {
   "cell_type": "code",
   "execution_count": 11,
   "metadata": {},
   "outputs": [],
   "source": [
    "df = pd.read_csv('../datasets/funcion_dos.csv')\n"
   ]
  },
  {
   "cell_type": "code",
   "execution_count": 14,
   "metadata": {},
   "outputs": [
    {
     "data": {
      "text/html": [
       "<div>\n",
       "<style scoped>\n",
       "    .dataframe tbody tr th:only-of-type {\n",
       "        vertical-align: middle;\n",
       "    }\n",
       "\n",
       "    .dataframe tbody tr th {\n",
       "        vertical-align: top;\n",
       "    }\n",
       "\n",
       "    .dataframe thead th {\n",
       "        text-align: right;\n",
       "    }\n",
       "</style>\n",
       "<table border=\"1\" class=\"dataframe\">\n",
       "  <thead>\n",
       "    <tr style=\"text-align: right;\">\n",
       "      <th></th>\n",
       "      <th>genres</th>\n",
       "      <th>id</th>\n",
       "      <th>year</th>\n",
       "      <th>user_id</th>\n",
       "      <th>playtime_forever</th>\n",
       "    </tr>\n",
       "  </thead>\n",
       "  <tbody>\n",
       "    <tr>\n",
       "      <th>97</th>\n",
       "      <td>Adventure</td>\n",
       "      <td>252490</td>\n",
       "      <td>2013.0</td>\n",
       "      <td>76561198049910471</td>\n",
       "      <td>13.0</td>\n",
       "    </tr>\n",
       "    <tr>\n",
       "      <th>46</th>\n",
       "      <td>Action</td>\n",
       "      <td>203290</td>\n",
       "      <td>2015.0</td>\n",
       "      <td>76561198088583840</td>\n",
       "      <td>19.0</td>\n",
       "    </tr>\n",
       "    <tr>\n",
       "      <th>76</th>\n",
       "      <td>Action</td>\n",
       "      <td>220</td>\n",
       "      <td>2004.0</td>\n",
       "      <td>thefarkingchamp</td>\n",
       "      <td>725.0</td>\n",
       "    </tr>\n",
       "    <tr>\n",
       "      <th>73</th>\n",
       "      <td>Adventure</td>\n",
       "      <td>8290</td>\n",
       "      <td>2008.0</td>\n",
       "      <td>chickenislife</td>\n",
       "      <td>76.0</td>\n",
       "    </tr>\n",
       "    <tr>\n",
       "      <th>102</th>\n",
       "      <td>Adventure</td>\n",
       "      <td>252490</td>\n",
       "      <td>2013.0</td>\n",
       "      <td>76561198064894732</td>\n",
       "      <td>883.0</td>\n",
       "    </tr>\n",
       "    <tr>\n",
       "      <th>63</th>\n",
       "      <td>Strategy</td>\n",
       "      <td>113020</td>\n",
       "      <td>2013.0</td>\n",
       "      <td>76561198081815506</td>\n",
       "      <td>126.0</td>\n",
       "    </tr>\n",
       "    <tr>\n",
       "      <th>96</th>\n",
       "      <td>Indie</td>\n",
       "      <td>322330</td>\n",
       "      <td>2016.0</td>\n",
       "      <td>76561198007036654</td>\n",
       "      <td>281.0</td>\n",
       "    </tr>\n",
       "    <tr>\n",
       "      <th>110</th>\n",
       "      <td>Action</td>\n",
       "      <td>314560</td>\n",
       "      <td>2015.0</td>\n",
       "      <td>Eudanil</td>\n",
       "      <td>0.0</td>\n",
       "    </tr>\n",
       "    <tr>\n",
       "      <th>22</th>\n",
       "      <td>Adventure</td>\n",
       "      <td>311340</td>\n",
       "      <td>2014.0</td>\n",
       "      <td>LionBrito</td>\n",
       "      <td>441.0</td>\n",
       "    </tr>\n",
       "    <tr>\n",
       "      <th>42</th>\n",
       "      <td>Strategy</td>\n",
       "      <td>449140</td>\n",
       "      <td>2016.0</td>\n",
       "      <td>se7en-pounds</td>\n",
       "      <td>152.0</td>\n",
       "    </tr>\n",
       "  </tbody>\n",
       "</table>\n",
       "</div>"
      ],
      "text/plain": [
       "        genres      id    year            user_id  playtime_forever\n",
       "97   Adventure  252490  2013.0  76561198049910471              13.0\n",
       "46      Action  203290  2015.0  76561198088583840              19.0\n",
       "76      Action     220  2004.0    thefarkingchamp             725.0\n",
       "73   Adventure    8290  2008.0      chickenislife              76.0\n",
       "102  Adventure  252490  2013.0  76561198064894732             883.0\n",
       "63    Strategy  113020  2013.0  76561198081815506             126.0\n",
       "96       Indie  322330  2016.0  76561198007036654             281.0\n",
       "110     Action  314560  2015.0            Eudanil               0.0\n",
       "22   Adventure  311340  2014.0          LionBrito             441.0\n",
       "42    Strategy  449140  2016.0       se7en-pounds             152.0"
      ]
     },
     "execution_count": 14,
     "metadata": {},
     "output_type": "execute_result"
    }
   ],
   "source": [
    "df.sample(10)"
   ]
  },
  {
   "cell_type": "markdown",
   "metadata": {},
   "source": [
    "\n",
    "se define la función   UserForGenre(genero: str):"
   ]
  },
  {
   "cell_type": "code",
   "execution_count": 1,
   "metadata": {},
   "outputs": [],
   "source": [
    "\n",
    "def UserForGenre(genero: str):\n",
    "    \n",
    "    df = pd.read_csv('../datasets/funcion_dos.csv')\n",
    "\n",
    "    # se filtra el DataFrame por género\n",
    "    df_genre = df[df['genres'] == genero]\n",
    "\n",
    "    # se agrupa por usuario y año de lanzamiento, y se calcula la suma de las horas jugadas para cada usuario y año\n",
    "    horas_usuario_anio = df_genre.groupby(['user_id', 'year'])['playtime_forever'].sum()\n",
    "\n",
    "    # se encuentra  el usuario con la máxima suma de horas jugadas para el género dado\n",
    "    max_usuario = horas_usuario_anio.groupby(level='user_id').sum().idxmax()\n",
    "\n",
    "    #  se filtra las horas jugadas del usuario con la máxima suma\n",
    "    horas_usuario_max = horas_usuario_anio.loc[max_usuario].reset_index()\n",
    "\n",
    "    # se convierte los datos a un formato de lista de diccionarios\n",
    "    horas_por_anio = horas_usuario_max.to_dict(orient='records')\n",
    "\n",
    "    \n",
    "    result = {\n",
    "       \"Usuario con más horas jugadas para Género \" + genero: max_usuario,\n",
    "        \"Horas jugadas\": horas_por_anio\n",
    "    }\n",
    "\n",
    "    return result\n"
   ]
  },
  {
   "cell_type": "code",
   "execution_count": 20,
   "metadata": {},
   "outputs": [
    {
     "name": "stdout",
     "output_type": "stream",
     "text": [
      "{'Usuario con más horas jugadas para Género Action': 'giantflyingoctopi', 'Horas jugadas': [{'year': 2015.0, 'playtime_forever': 2543.0}]}\n"
     ]
    }
   ],
   "source": [
    "resultado = UserForGenre(\"Action\")\n",
    "print(resultado)"
   ]
  }
 ],
 "metadata": {
  "kernelspec": {
   "display_name": "Python 3",
   "language": "python",
   "name": "python3"
  },
  "language_info": {
   "codemirror_mode": {
    "name": "ipython",
    "version": 3
   },
   "file_extension": ".py",
   "mimetype": "text/x-python",
   "name": "python",
   "nbconvert_exporter": "python",
   "pygments_lexer": "ipython3",
   "version": "3.12.3"
  }
 },
 "nbformat": 4,
 "nbformat_minor": 2
}
