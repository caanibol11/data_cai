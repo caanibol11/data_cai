{
 "cells": [
  {
   "cell_type": "markdown",
   "metadata": {},
   "source": [
    "Se importa la libreria de pandas \n",
    "se lee el archivo de user reviews que contiene la columna sentiment_analysis"
   ]
  },
  {
   "cell_type": "code",
   "execution_count": 10,
   "metadata": {},
   "outputs": [],
   "source": [
    "import pandas as pd\n",
    "df= pd.read_csv('../datasets/user_reviews.csv')\n"
   ]
  },
  {
   "cell_type": "code",
   "execution_count": 3,
   "metadata": {},
   "outputs": [
    {
     "data": {
      "text/html": [
       "<div>\n",
       "<style scoped>\n",
       "    .dataframe tbody tr th:only-of-type {\n",
       "        vertical-align: middle;\n",
       "    }\n",
       "\n",
       "    .dataframe tbody tr th {\n",
       "        vertical-align: top;\n",
       "    }\n",
       "\n",
       "    .dataframe thead th {\n",
       "        text-align: right;\n",
       "    }\n",
       "</style>\n",
       "<table border=\"1\" class=\"dataframe\">\n",
       "  <thead>\n",
       "    <tr style=\"text-align: right;\">\n",
       "      <th></th>\n",
       "      <th>user_id</th>\n",
       "      <th>posted</th>\n",
       "      <th>item_id</th>\n",
       "      <th>recommend</th>\n",
       "      <th>sentiment_analysis</th>\n",
       "    </tr>\n",
       "  </thead>\n",
       "  <tbody>\n",
       "    <tr>\n",
       "      <th>0</th>\n",
       "      <td>RegularSmokeyJoe</td>\n",
       "      <td>Posted September 9, 2014.</td>\n",
       "      <td>48700</td>\n",
       "      <td>True</td>\n",
       "      <td>1</td>\n",
       "    </tr>\n",
       "    <tr>\n",
       "      <th>1</th>\n",
       "      <td>76561198044711473</td>\n",
       "      <td>Posted May 14.</td>\n",
       "      <td>379720</td>\n",
       "      <td>True</td>\n",
       "      <td>1</td>\n",
       "    </tr>\n",
       "    <tr>\n",
       "      <th>2</th>\n",
       "      <td>TheAntiPixel</td>\n",
       "      <td>Posted April 7.</td>\n",
       "      <td>413150</td>\n",
       "      <td>True</td>\n",
       "      <td>2</td>\n",
       "    </tr>\n",
       "    <tr>\n",
       "      <th>3</th>\n",
       "      <td>76561198091344363</td>\n",
       "      <td>Posted February 24, 2014.</td>\n",
       "      <td>440</td>\n",
       "      <td>True</td>\n",
       "      <td>2</td>\n",
       "    </tr>\n",
       "    <tr>\n",
       "      <th>4</th>\n",
       "      <td>76561198132083512</td>\n",
       "      <td>Posted July 4, 2014.</td>\n",
       "      <td>440</td>\n",
       "      <td>True</td>\n",
       "      <td>2</td>\n",
       "    </tr>\n",
       "  </tbody>\n",
       "</table>\n",
       "</div>"
      ],
      "text/plain": [
       "             user_id                     posted  item_id  recommend  \\\n",
       "0   RegularSmokeyJoe  Posted September 9, 2014.    48700       True   \n",
       "1  76561198044711473             Posted May 14.   379720       True   \n",
       "2       TheAntiPixel            Posted April 7.   413150       True   \n",
       "3  76561198091344363  Posted February 24, 2014.      440       True   \n",
       "4  76561198132083512       Posted July 4, 2014.      440       True   \n",
       "\n",
       "   sentiment_analysis  \n",
       "0                   1  \n",
       "1                   1  \n",
       "2                   2  \n",
       "3                   2  \n",
       "4                   2  "
      ]
     },
     "execution_count": 3,
     "metadata": {},
     "output_type": "execute_result"
    }
   ],
   "source": [
    "df.head()"
   ]
  },
  {
   "cell_type": "markdown",
   "metadata": {},
   "source": [
    "se lee el archivo steam_games para relacionar la columna año"
   ]
  },
  {
   "cell_type": "code",
   "execution_count": 21,
   "metadata": {},
   "outputs": [],
   "source": [
    "df1= pd.read_csv('../datasets/steam_games.csv')"
   ]
  },
  {
   "cell_type": "code",
   "execution_count": 22,
   "metadata": {},
   "outputs": [
    {
     "data": {
      "text/html": [
       "<div>\n",
       "<style scoped>\n",
       "    .dataframe tbody tr th:only-of-type {\n",
       "        vertical-align: middle;\n",
       "    }\n",
       "\n",
       "    .dataframe tbody tr th {\n",
       "        vertical-align: top;\n",
       "    }\n",
       "\n",
       "    .dataframe thead th {\n",
       "        text-align: right;\n",
       "    }\n",
       "</style>\n",
       "<table border=\"1\" class=\"dataframe\">\n",
       "  <thead>\n",
       "    <tr style=\"text-align: right;\">\n",
       "      <th></th>\n",
       "      <th>genres</th>\n",
       "      <th>app_name</th>\n",
       "      <th>id</th>\n",
       "      <th>year</th>\n",
       "    </tr>\n",
       "  </thead>\n",
       "  <tbody>\n",
       "    <tr>\n",
       "      <th>0</th>\n",
       "      <td>Simulation</td>\n",
       "      <td>Train Simulator: BR Class 423 ‘4VEP’ EMU Add-On</td>\n",
       "      <td>65256</td>\n",
       "      <td>2012.0</td>\n",
       "    </tr>\n",
       "    <tr>\n",
       "      <th>1</th>\n",
       "      <td>Indie</td>\n",
       "      <td>BattleRush</td>\n",
       "      <td>734580</td>\n",
       "      <td>2017.0</td>\n",
       "    </tr>\n",
       "    <tr>\n",
       "      <th>2</th>\n",
       "      <td>Strategy</td>\n",
       "      <td>Reverse Crawl</td>\n",
       "      <td>400660</td>\n",
       "      <td>2015.0</td>\n",
       "    </tr>\n",
       "    <tr>\n",
       "      <th>3</th>\n",
       "      <td>Adventure</td>\n",
       "      <td>Countless Rooms of Death</td>\n",
       "      <td>341380</td>\n",
       "      <td>2014.0</td>\n",
       "    </tr>\n",
       "    <tr>\n",
       "      <th>4</th>\n",
       "      <td>Indie</td>\n",
       "      <td>Tomato Jones 2</td>\n",
       "      <td>625940</td>\n",
       "      <td>2017.0</td>\n",
       "    </tr>\n",
       "  </tbody>\n",
       "</table>\n",
       "</div>"
      ],
      "text/plain": [
       "       genres                                         app_name      id    year\n",
       "0  Simulation  Train Simulator: BR Class 423 ‘4VEP’ EMU Add-On   65256  2012.0\n",
       "1       Indie                                       BattleRush  734580  2017.0\n",
       "2    Strategy                                    Reverse Crawl  400660  2015.0\n",
       "3   Adventure                         Countless Rooms of Death  341380  2014.0\n",
       "4       Indie                                   Tomato Jones 2  625940  2017.0"
      ]
     },
     "execution_count": 22,
     "metadata": {},
     "output_type": "execute_result"
    }
   ],
   "source": [
    "df1.head()"
   ]
  },
  {
   "cell_type": "markdown",
   "metadata": {},
   "source": [
    "se cambia el nombre del campo item_id por id, con el objetivo de lograr concantenación entre las dos archivos"
   ]
  },
  {
   "cell_type": "code",
   "execution_count": 23,
   "metadata": {},
   "outputs": [],
   "source": [
    "df.rename(columns={'item_id': 'id'}, inplace=True)"
   ]
  },
  {
   "cell_type": "markdown",
   "metadata": {},
   "source": [
    "se concatena  los archivos anteriores"
   ]
  },
  {
   "cell_type": "code",
   "execution_count": 24,
   "metadata": {},
   "outputs": [],
   "source": [
    "merged_df = pd.merge(df1, df, on='id')"
   ]
  },
  {
   "cell_type": "code",
   "execution_count": 26,
   "metadata": {},
   "outputs": [
    {
     "data": {
      "text/html": [
       "<div>\n",
       "<style scoped>\n",
       "    .dataframe tbody tr th:only-of-type {\n",
       "        vertical-align: middle;\n",
       "    }\n",
       "\n",
       "    .dataframe tbody tr th {\n",
       "        vertical-align: top;\n",
       "    }\n",
       "\n",
       "    .dataframe thead th {\n",
       "        text-align: right;\n",
       "    }\n",
       "</style>\n",
       "<table border=\"1\" class=\"dataframe\">\n",
       "  <thead>\n",
       "    <tr style=\"text-align: right;\">\n",
       "      <th></th>\n",
       "      <th>genres</th>\n",
       "      <th>app_name</th>\n",
       "      <th>id</th>\n",
       "      <th>year</th>\n",
       "      <th>user_id</th>\n",
       "      <th>posted</th>\n",
       "      <th>recommend</th>\n",
       "      <th>sentiment_analysis</th>\n",
       "    </tr>\n",
       "  </thead>\n",
       "  <tbody>\n",
       "    <tr>\n",
       "      <th>0</th>\n",
       "      <td>RPG</td>\n",
       "      <td>Robocraft</td>\n",
       "      <td>301520</td>\n",
       "      <td>2017.0</td>\n",
       "      <td>76561198097860960</td>\n",
       "      <td>Posted April 11, 2015.</td>\n",
       "      <td>True</td>\n",
       "      <td>1</td>\n",
       "    </tr>\n",
       "    <tr>\n",
       "      <th>1</th>\n",
       "      <td>RPG</td>\n",
       "      <td>Robocraft</td>\n",
       "      <td>301520</td>\n",
       "      <td>2017.0</td>\n",
       "      <td>utarran</td>\n",
       "      <td>Posted August 27, 2014.</td>\n",
       "      <td>True</td>\n",
       "      <td>1</td>\n",
       "    </tr>\n",
       "    <tr>\n",
       "      <th>2</th>\n",
       "      <td>RPG</td>\n",
       "      <td>Robocraft</td>\n",
       "      <td>301520</td>\n",
       "      <td>2017.0</td>\n",
       "      <td>76561198116557265</td>\n",
       "      <td>Posted August 18, 2014.</td>\n",
       "      <td>True</td>\n",
       "      <td>2</td>\n",
       "    </tr>\n",
       "    <tr>\n",
       "      <th>3</th>\n",
       "      <td>RPG</td>\n",
       "      <td>Robocraft</td>\n",
       "      <td>301520</td>\n",
       "      <td>2017.0</td>\n",
       "      <td>76561198059301330</td>\n",
       "      <td>Posted October 15, 2014.</td>\n",
       "      <td>True</td>\n",
       "      <td>1</td>\n",
       "    </tr>\n",
       "    <tr>\n",
       "      <th>4</th>\n",
       "      <td>RPG</td>\n",
       "      <td>Robocraft</td>\n",
       "      <td>301520</td>\n",
       "      <td>2017.0</td>\n",
       "      <td>flame1312</td>\n",
       "      <td>Posted July 3, 2015.</td>\n",
       "      <td>True</td>\n",
       "      <td>1</td>\n",
       "    </tr>\n",
       "  </tbody>\n",
       "</table>\n",
       "</div>"
      ],
      "text/plain": [
       "  genres   app_name      id    year            user_id  \\\n",
       "0    RPG  Robocraft  301520  2017.0  76561198097860960   \n",
       "1    RPG  Robocraft  301520  2017.0            utarran   \n",
       "2    RPG  Robocraft  301520  2017.0  76561198116557265   \n",
       "3    RPG  Robocraft  301520  2017.0  76561198059301330   \n",
       "4    RPG  Robocraft  301520  2017.0          flame1312   \n",
       "\n",
       "                     posted  recommend  sentiment_analysis  \n",
       "0    Posted April 11, 2015.       True                   1  \n",
       "1   Posted August 27, 2014.       True                   1  \n",
       "2   Posted August 18, 2014.       True                   2  \n",
       "3  Posted October 15, 2014.       True                   1  \n",
       "4      Posted July 3, 2015.       True                   1  "
      ]
     },
     "execution_count": 26,
     "metadata": {},
     "output_type": "execute_result"
    }
   ],
   "source": [
    "merged_df.head()"
   ]
  },
  {
   "cell_type": "markdown",
   "metadata": {},
   "source": [
    "se eliminan las columnas innecesarias en esta implementacion"
   ]
  },
  {
   "cell_type": "code",
   "execution_count": 27,
   "metadata": {},
   "outputs": [],
   "source": [
    "merged_df.drop(columns=['app_name','user_id','posted'],inplace=True)"
   ]
  },
  {
   "cell_type": "code",
   "execution_count": 28,
   "metadata": {},
   "outputs": [
    {
     "data": {
      "text/html": [
       "<div>\n",
       "<style scoped>\n",
       "    .dataframe tbody tr th:only-of-type {\n",
       "        vertical-align: middle;\n",
       "    }\n",
       "\n",
       "    .dataframe tbody tr th {\n",
       "        vertical-align: top;\n",
       "    }\n",
       "\n",
       "    .dataframe thead th {\n",
       "        text-align: right;\n",
       "    }\n",
       "</style>\n",
       "<table border=\"1\" class=\"dataframe\">\n",
       "  <thead>\n",
       "    <tr style=\"text-align: right;\">\n",
       "      <th></th>\n",
       "      <th>genres</th>\n",
       "      <th>id</th>\n",
       "      <th>year</th>\n",
       "      <th>recommend</th>\n",
       "      <th>sentiment_analysis</th>\n",
       "    </tr>\n",
       "  </thead>\n",
       "  <tbody>\n",
       "    <tr>\n",
       "      <th>0</th>\n",
       "      <td>RPG</td>\n",
       "      <td>301520</td>\n",
       "      <td>2017.0</td>\n",
       "      <td>True</td>\n",
       "      <td>1</td>\n",
       "    </tr>\n",
       "    <tr>\n",
       "      <th>1</th>\n",
       "      <td>RPG</td>\n",
       "      <td>301520</td>\n",
       "      <td>2017.0</td>\n",
       "      <td>True</td>\n",
       "      <td>1</td>\n",
       "    </tr>\n",
       "    <tr>\n",
       "      <th>2</th>\n",
       "      <td>RPG</td>\n",
       "      <td>301520</td>\n",
       "      <td>2017.0</td>\n",
       "      <td>True</td>\n",
       "      <td>2</td>\n",
       "    </tr>\n",
       "    <tr>\n",
       "      <th>3</th>\n",
       "      <td>RPG</td>\n",
       "      <td>301520</td>\n",
       "      <td>2017.0</td>\n",
       "      <td>True</td>\n",
       "      <td>1</td>\n",
       "    </tr>\n",
       "    <tr>\n",
       "      <th>4</th>\n",
       "      <td>RPG</td>\n",
       "      <td>301520</td>\n",
       "      <td>2017.0</td>\n",
       "      <td>True</td>\n",
       "      <td>1</td>\n",
       "    </tr>\n",
       "  </tbody>\n",
       "</table>\n",
       "</div>"
      ],
      "text/plain": [
       "  genres      id    year  recommend  sentiment_analysis\n",
       "0    RPG  301520  2017.0       True                   1\n",
       "1    RPG  301520  2017.0       True                   1\n",
       "2    RPG  301520  2017.0       True                   2\n",
       "3    RPG  301520  2017.0       True                   1\n",
       "4    RPG  301520  2017.0       True                   1"
      ]
     },
     "execution_count": 28,
     "metadata": {},
     "output_type": "execute_result"
    }
   ],
   "source": [
    "merged_df.head()"
   ]
  },
  {
   "cell_type": "markdown",
   "metadata": {},
   "source": [
    "se convierte el datafrfame en archivo csv"
   ]
  },
  {
   "cell_type": "code",
   "execution_count": 29,
   "metadata": {},
   "outputs": [],
   "source": [
    "merged_df.to_csv('../datasets/funcion_tres.csv',index=False)"
   ]
  },
  {
   "cell_type": "markdown",
   "metadata": {},
   "source": [
    "se define la función sentiment_analysis para llevarla al archivo main"
   ]
  },
  {
   "cell_type": "code",
   "execution_count": 30,
   "metadata": {},
   "outputs": [],
   "source": [
    "def sentiment_analysis(año: int):\n",
    "    # Cargar los datos del archivo CSV (reemplaza 'data.csv' con tu archivo)\n",
    "    df= pd.read_csv('../datasets/funcion_tres.csv')\n",
    "\n",
    "    # Filtrar el DataFrame por el año de lanzamiento\n",
    "    df_year = df[df['year'] == año]\n",
    "\n",
    "    # Contar la cantidad de registros de reseñas categorizados con análisis de sentimiento\n",
    "    sentiment_counts = df_year['sentiment_analysis'].value_counts()\n",
    "\n",
    "    # Crear un diccionario con los recuentos de sentimientos\n",
    "    result = sentiment_counts.to_dict()\n",
    "\n",
    "    return result\n"
   ]
  },
  {
   "cell_type": "code",
   "execution_count": 31,
   "metadata": {},
   "outputs": [
    {
     "data": {
      "text/plain": [
       "{1: 6, 2: 5, 0: 1}"
      ]
     },
     "execution_count": 31,
     "metadata": {},
     "output_type": "execute_result"
    }
   ],
   "source": [
    "sentiment_analysis(2012)"
   ]
  }
 ],
 "metadata": {
  "kernelspec": {
   "display_name": "Python 3",
   "language": "python",
   "name": "python3"
  },
  "language_info": {
   "codemirror_mode": {
    "name": "ipython",
    "version": 3
   },
   "file_extension": ".py",
   "mimetype": "text/x-python",
   "name": "python",
   "nbconvert_exporter": "python",
   "pygments_lexer": "ipython3",
   "version": "3.12.3"
  }
 },
 "nbformat": 4,
 "nbformat_minor": 2
}
