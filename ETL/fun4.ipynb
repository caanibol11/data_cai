{
 "cells": [
  {
   "cell_type": "markdown",
   "metadata": {},
   "source": [
    "Se importa las librerias de SCIKIT LEARN"
   ]
  },
  {
   "cell_type": "code",
   "execution_count": 17,
   "metadata": {},
   "outputs": [],
   "source": [
    "import pandas as pd\n",
    "from sklearn.feature_extraction.text import TfidfVectorizer\n",
    "from sklearn.metrics.pairwise import cosine_similarity"
   ]
  },
  {
   "cell_type": "markdown",
   "metadata": {},
   "source": [
    "Leemos el dataset de STEAM GAMES, el cual contiene el campo nombre de juegos"
   ]
  },
  {
   "cell_type": "code",
   "execution_count": 21,
   "metadata": {},
   "outputs": [],
   "source": [
    "df1= pd.read_csv('../datasets/steam_games.csv')"
   ]
  },
  {
   "cell_type": "code",
   "execution_count": 22,
   "metadata": {},
   "outputs": [
    {
     "data": {
      "text/html": [
       "<div>\n",
       "<style scoped>\n",
       "    .dataframe tbody tr th:only-of-type {\n",
       "        vertical-align: middle;\n",
       "    }\n",
       "\n",
       "    .dataframe tbody tr th {\n",
       "        vertical-align: top;\n",
       "    }\n",
       "\n",
       "    .dataframe thead th {\n",
       "        text-align: right;\n",
       "    }\n",
       "</style>\n",
       "<table border=\"1\" class=\"dataframe\">\n",
       "  <thead>\n",
       "    <tr style=\"text-align: right;\">\n",
       "      <th></th>\n",
       "      <th>genres</th>\n",
       "      <th>app_name</th>\n",
       "      <th>id</th>\n",
       "      <th>year</th>\n",
       "    </tr>\n",
       "  </thead>\n",
       "  <tbody>\n",
       "    <tr>\n",
       "      <th>0</th>\n",
       "      <td>Simulation</td>\n",
       "      <td>Train Simulator: BR Class 423 ‘4VEP’ EMU Add-On</td>\n",
       "      <td>65256</td>\n",
       "      <td>2012.0</td>\n",
       "    </tr>\n",
       "    <tr>\n",
       "      <th>1</th>\n",
       "      <td>Indie</td>\n",
       "      <td>BattleRush</td>\n",
       "      <td>734580</td>\n",
       "      <td>2017.0</td>\n",
       "    </tr>\n",
       "    <tr>\n",
       "      <th>2</th>\n",
       "      <td>Strategy</td>\n",
       "      <td>Reverse Crawl</td>\n",
       "      <td>400660</td>\n",
       "      <td>2015.0</td>\n",
       "    </tr>\n",
       "    <tr>\n",
       "      <th>3</th>\n",
       "      <td>Adventure</td>\n",
       "      <td>Countless Rooms of Death</td>\n",
       "      <td>341380</td>\n",
       "      <td>2014.0</td>\n",
       "    </tr>\n",
       "    <tr>\n",
       "      <th>4</th>\n",
       "      <td>Indie</td>\n",
       "      <td>Tomato Jones 2</td>\n",
       "      <td>625940</td>\n",
       "      <td>2017.0</td>\n",
       "    </tr>\n",
       "  </tbody>\n",
       "</table>\n",
       "</div>"
      ],
      "text/plain": [
       "       genres                                         app_name      id    year\n",
       "0  Simulation  Train Simulator: BR Class 423 ‘4VEP’ EMU Add-On   65256  2012.0\n",
       "1       Indie                                       BattleRush  734580  2017.0\n",
       "2    Strategy                                    Reverse Crawl  400660  2015.0\n",
       "3   Adventure                         Countless Rooms of Death  341380  2014.0\n",
       "4       Indie                                   Tomato Jones 2  625940  2017.0"
      ]
     },
     "execution_count": 22,
     "metadata": {},
     "output_type": "execute_result"
    }
   ],
   "source": [
    "df1.head()"
   ]
  },
  {
   "cell_type": "code",
   "execution_count": 3,
   "metadata": {},
   "outputs": [
    {
     "name": "stdout",
     "output_type": "stream",
     "text": [
      "<class 'pandas.core.frame.DataFrame'>\n",
      "RangeIndex: 2000 entries, 0 to 1999\n",
      "Data columns (total 4 columns):\n",
      " #   Column    Non-Null Count  Dtype  \n",
      "---  ------    --------------  -----  \n",
      " 0   genres    2000 non-null   object \n",
      " 1   app_name  2000 non-null   object \n",
      " 2   id        2000 non-null   int64  \n",
      " 3   year      1995 non-null   float64\n",
      "dtypes: float64(1), int64(1), object(2)\n",
      "memory usage: 62.6+ KB\n"
     ]
    }
   ],
   "source": [
    "df1.info()"
   ]
  },
  {
   "cell_type": "markdown",
   "metadata": {},
   "source": [
    "Se crea un dataframe con solo la columna app_name"
   ]
  },
  {
   "cell_type": "code",
   "execution_count": 26,
   "metadata": {},
   "outputs": [
    {
     "data": {
      "text/plain": [
       "0         Train Simulator: BR Class 423 ‘4VEP’ EMU Add-On\n",
       "1                                              BattleRush\n",
       "2                                           Reverse Crawl\n",
       "3                                Countless Rooms of Death\n",
       "4                                          Tomato Jones 2\n",
       "                              ...                        \n",
       "1995                                       Tenshu General\n",
       "1996                                 My Own Little Planet\n",
       "1997    Fantasy Grounds - Mini-Dungeon #017: Shadows o...\n",
       "1998                                       Battle Knights\n",
       "1999                          The Saint: Abyss of Despair\n",
       "Name: app_name, Length: 2000, dtype: object"
      ]
     },
     "execution_count": 26,
     "metadata": {},
     "output_type": "execute_result"
    }
   ],
   "source": [
    "df2=df1['app_name'].astype(str)\n",
    "\n",
    "df2"
   ]
  },
  {
   "cell_type": "markdown",
   "metadata": {},
   "source": [
    "Se vectoriza los nombres de los juegos representando cada juego como un vector numérico. Esto se puede hacer utilizando diferentes técnicas de procesamiento de texto, como TF-IDF (Term Frequency-Inverse Document Frequency) o embeddings."
   ]
  },
  {
   "cell_type": "code",
   "execution_count": null,
   "metadata": {},
   "outputs": [],
   "source": [
    "vectorizer = TfidfVectorizer()\n",
    "X = vectorizer.fit_transform(df2)"
   ]
  },
  {
   "cell_type": "markdown",
   "metadata": {},
   "source": [
    "se calcula la similitud de coseno entre los juegos"
   ]
  },
  {
   "cell_type": "code",
   "execution_count": null,
   "metadata": {},
   "outputs": [],
   "source": [
    "similaridades = cosine_similarity(X, X)"
   ]
  },
  {
   "cell_type": "markdown",
   "metadata": {},
   "source": [
    "funcion para encontrar los 5 juegos mas recomendados"
   ]
  },
  {
   "cell_type": "code",
   "execution_count": 29,
   "metadata": {},
   "outputs": [],
   "source": [
    "\n",
    "def recomendar_juegos(juego, df2, similaridades, n=5):\n",
    "    # Encontrar el índice del juego de entrada en la lista de juegos\n",
    "    indice_juego = df2.index(juego)\n",
    "    \n",
    "    # Obtener las similitudes del juego de entrada con todos los juegos\n",
    "    sim_juego = similaridades[indice_juego]\n",
    "    \n",
    "    # Obtener los índices de los juegos más similares (excluyendo el juego de entrada)\n",
    "    indices_similares = sim_juego.argsort()[::-1][1:n+1]\n",
    "    \n",
    "    # Obtener los nombres de los juegos recomendados\n",
    "    juegos_recomendados = [df2[i] for i in indices_similares]\n",
    "    \n",
    "    return juegos_recomendados\n",
    "\n",
    "\n"
   ]
  }
 ],
 "metadata": {
  "kernelspec": {
   "display_name": "Python 3",
   "language": "python",
   "name": "python3"
  },
  "language_info": {
   "codemirror_mode": {
    "name": "ipython",
    "version": 3
   },
   "file_extension": ".py",
   "mimetype": "text/x-python",
   "name": "python",
   "nbconvert_exporter": "python",
   "pygments_lexer": "ipython3",
   "version": "3.12.3"
  }
 },
 "nbformat": 4,
 "nbformat_minor": 2
}
